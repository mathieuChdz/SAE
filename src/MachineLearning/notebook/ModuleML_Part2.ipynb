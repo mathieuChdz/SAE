{
 "cells": [
  {
   "cell_type": "markdown",
   "source": [
    "# **Module de Machine Learning**\n",
    "\n",
    "# **Partie 2  : Web Scraping**\n",
    "L'objectif de cette partie est de récupérer des phrases à caractère financier sur le site du Financial Times pour les fournir au modèle de la Partie 1 après récupération de celui-ci."
   ],
   "metadata": {
    "collapsed": false,
    "id": "y_V2rTZ9b7CA"
   }
  },
  {
   "cell_type": "markdown",
   "source": [
    "### Librairies"
   ],
   "metadata": {
    "collapsed": false,
    "id": "7HEhQ4Xpb7CH"
   }
  },
  {
   "cell_type": "code",
   "execution_count": 18,
   "outputs": [],
   "source": [
    "from bs4 import BeautifulSoup\n",
    "import requests\n",
    "import csv"
   ],
   "metadata": {
    "id": "9ZTB-s8mb7CI",
    "executionInfo": {
     "status": "ok",
     "timestamp": 1680506406012,
     "user_tz": -120,
     "elapsed": 687,
     "user": {
      "displayName": "Ludovic Danlos",
      "userId": "07066482761641334028"
     }
    }
   }
  },
  {
   "cell_type": "markdown",
   "source": [
    "### Script de récupération de données financières (Financial Times)"
   ],
   "metadata": {
    "collapsed": false,
    "id": "d7su5zclb7CJ"
   }
  },
  {
   "cell_type": "markdown",
   "source": [
    "#### Récupération d'une page web"
   ],
   "metadata": {
    "collapsed": false,
    "id": "CX8kTAhOb7CK"
   }
  },
  {
   "cell_type": "code",
   "execution_count": 19,
   "outputs": [
    {
     "data": {
      "text/plain": "<Response [200]>"
     },
     "execution_count": 19,
     "metadata": {},
     "output_type": "execute_result"
    }
   ],
   "source": [
    "response = requests.get(\"https://www.ft.com/global-economy\")\n",
    "\n",
    "response\n",
    "# Si response renvoie <Response 200> la requête à bien fonctionner et la variable response contient la page web correspondant à l'url.\n",
    "# En revanche <Response 404> indique une erreur."
   ],
   "metadata": {
    "colab": {
     "base_uri": "https://localhost:8080/"
    },
    "id": "5jYf0ZTIb7CL",
    "executionInfo": {
     "status": "ok",
     "timestamp": 1680506410317,
     "user_tz": -120,
     "elapsed": 648,
     "user": {
      "displayName": "Ludovic Danlos",
      "userId": "07066482761641334028"
     }
    },
    "outputId": "949c972d-cf59-49f5-9c1b-e8029c0fa11f"
   }
  },
  {
   "cell_type": "markdown",
   "source": [
    "#### Parsing du contenu de la page web"
   ],
   "metadata": {
    "collapsed": false,
    "id": "Zf3Y7YdTb7CM"
   }
  },
  {
   "cell_type": "code",
   "execution_count": 20,
   "outputs": [
    {
     "data": {
      "text/plain": "<title>Global Economy | Financial Times</title>"
     },
     "execution_count": 20,
     "metadata": {},
     "output_type": "execute_result"
    }
   ],
   "source": [
    "soup = BeautifulSoup(response.content, 'html.parser')\n",
    "\n",
    "soup.title\n",
    "# Normalement, on devrait avoir récupérer les données du site du Financial Times"
   ],
   "metadata": {
    "colab": {
     "base_uri": "https://localhost:8080/"
    },
    "id": "txaOOF3qb7CN",
    "executionInfo": {
     "status": "ok",
     "timestamp": 1680506412738,
     "user_tz": -120,
     "elapsed": 306,
     "user": {
      "displayName": "Ludovic Danlos",
      "userId": "07066482761641334028"
     }
    },
    "outputId": "40f0acb4-5f22-45be-82df-af1c4922b82f"
   }
  },
  {
   "cell_type": "markdown",
   "source": [
    "### Isolation des données qui nous intéressent"
   ],
   "metadata": {
    "collapsed": false,
    "id": "O9WOt0IIb7CO"
   }
  },
  {
   "cell_type": "code",
   "execution_count": 21,
   "outputs": [
    {
     "data": {
      "text/plain": "[<a class=\"js-teaser-heading-link\" data-trackable=\"heading-link\" href=\"/content/a064c6b4-37b3-40fa-bc88-e58bd1b0adce\">FirstFT: Trump blasts ‘election interference’ after historic charges</a>,\n <a class=\"js-teaser-heading-link\" data-trackable=\"heading-link\" href=\"/content/94d2410b-c3c1-4e0b-ad50-6144b310c75f\">EU trade deal with South America delayed by row over environmental rules</a>,\n <a class=\"js-teaser-heading-link\" data-trackable=\"heading-link\" href=\"/content/6890be22-9280-460a-bd2a-3c45f2cf531f\">BoE’s chief economist hints at May interest rate rise</a>,\n <a class=\"js-teaser-heading-link\" data-trackable=\"heading-link\" href=\"/content/92d95586-f1eb-4148-ae32-1864f7deeb43\">Waging war on trade will be costly</a>,\n <a class=\"js-teaser-heading-link\" data-trackable=\"heading-link\" href=\"/content/95745636-2d21-46aa-b0f1-6bda1c0fdd0b\">Personal inflation calculator: what is your inflation rate?</a>,\n <a class=\"js-teaser-heading-link\" data-trackable=\"heading-link\" href=\"/content/b7340b0f-7919-40d6-9f93-604f005e6551\">US job openings fall to lowest level in almost two years</a>,\n <a class=\"js-teaser-heading-link\" data-trackable=\"heading-link\" href=\"/content/535de452-e27d-4b8b-84bf-58ab4e910e86\">Opec isn’t scaring anyone</a>,\n <a class=\"js-teaser-heading-link\" data-trackable=\"heading-link\" href=\"/content/b757a212-6898-45c4-9cb4-d2d851b4a70e\">FirstFT: Trump prepares to face charges</a>,\n <a class=\"js-teaser-heading-link\" data-trackable=\"heading-link\" href=\"/content/293aa201-c63b-4144-86b9-84e7bd892d69\">How Spain has taken on the problem of precarious work  </a>,\n <a class=\"js-teaser-heading-link\" data-trackable=\"heading-link\" href=\"/content/c15a8a59-eb48-421b-84a6-f4c138aeddb5\">China Inc keen on setting up shop in the US despite tensions</a>,\n <a class=\"js-teaser-heading-link\" data-trackable=\"heading-link\" href=\"/content/c6e8a8b6-1fa5-4b38-b392-272fc9ec9285\">Surprise cut by Opec+ fuels optimism for oil companies</a>,\n <a class=\"js-teaser-heading-link\" data-trackable=\"heading-link\" href=\"/content/9c438696-2cf5-426c-b1da-f797cfc5019a\">Israel political crisis could cut 2.8% a year from GDP, central bank warns</a>,\n <a class=\"js-teaser-heading-link\" data-trackable=\"heading-link\" href=\"/content/07a1b2ce-fab5-4362-9e1d-d60d0a16d1d4\">High inflation boosts public finances, IMF says</a>,\n <a class=\"js-teaser-heading-link\" data-trackable=\"heading-link\" href=\"/content/9b260579-7cb4-44a0-ac6e-ed5ca4908334\">Europe’s aversion to anti-coercion</a>,\n <a class=\"js-teaser-heading-link\" data-trackable=\"heading-link\" href=\"/content/0c42c8c9-4922-4c4e-882c-2be3b24a72a6\">FirstFT: Oil prices surge</a>,\n <a class=\"js-teaser-heading-link\" data-trackable=\"heading-link\" href=\"/content/a7c2b2f6-e106-436d-a599-cfcc69d18b05\">China’s ports dominance undermines western aims to loosen trade ties</a>,\n <a class=\"js-teaser-heading-link\" data-trackable=\"heading-link\" href=\"/content/8951f7fe-43af-49d9-8641-a0d79bbd5bda\">The financial turmoil is not over</a>,\n <a class=\"js-teaser-heading-link\" data-trackable=\"heading-link\" href=\"/content/02d6f35d-e646-40f7-894c-ffcc6acd9b25\">How China is winning the race for Africa’s lithium</a>,\n <a class=\"js-teaser-heading-link\" data-trackable=\"heading-link\" href=\"/content/44420b37-8fbb-410d-bc4f-081537b2ee38\">Peace on Earth postponed</a>,\n <a class=\"js-teaser-heading-link\" data-trackable=\"heading-link\" href=\"/content/b6f01166-919c-4372-9bca-88f0e67f44c3\">Iraqi authorities reach preliminary deal to resume oil exports to Turkey</a>,\n <a class=\"js-teaser-heading-link\" data-trackable=\"heading-link\" href=\"/content/93a70057-77fe-49d5-a71b-2719c486b3d1\">UK financial system ‘locking out’ growing numbers of people</a>,\n <a class=\"js-teaser-heading-link\" data-trackable=\"heading-link\" href=\"/content/4b102da2-5f3e-4046-8d12-ab9e3ca89332\">Canada warns US against waging ‘carbon subsidy war’</a>,\n <a class=\"js-teaser-heading-link\" data-trackable=\"heading-link\" href=\"/content/50c99e54-0526-421a-be39-97b47f714843\">Will the pace of US hiring slow? </a>,\n <a class=\"js-teaser-heading-link\" data-trackable=\"heading-link\" href=\"/content/0813cc1c-61a6-414e-bf75-3c856565ed62\">Car loan cost surge pressures manufacturers to reinstate discounts</a>,\n <a class=\"js-teaser-heading-link\" data-trackable=\"heading-link\" href=\"/content/fbf04b59-23ee-463d-a0b3-d7e358265cb1\">Europe’s foothold slips in Africa</a>,\n <a class=\"js-teaser-heading-link\" data-trackable=\"heading-link\" href=\"https://twitter.com/fteconomics\">Follow us on Twitter @FTEconomics</a>,\n <a class=\"js-teaser-heading-link\" data-trackable=\"heading-link\" href=\"https://ep.ft.com/newsletters/subscribe?newsletterIds=56388465e4b0c3d64132e189\">Sign up for the Martin Sandbu’s Free Lunch newsletter</a>]"
     },
     "execution_count": 21,
     "metadata": {},
     "output_type": "execute_result"
    }
   ],
   "source": [
    "tag_a = soup.find_all(\"a\", class_=\"js-teaser-heading-link\")\n",
    "tag_a"
   ],
   "metadata": {
    "colab": {
     "base_uri": "https://localhost:8080/"
    },
    "id": "V-Fggokvb7CO",
    "executionInfo": {
     "status": "ok",
     "timestamp": 1680506415874,
     "user_tz": -120,
     "elapsed": 205,
     "user": {
      "displayName": "Ludovic Danlos",
      "userId": "07066482761641334028"
     }
    },
    "outputId": "243d5b89-549a-40b1-d584-b4e16daf26e8"
   }
  },
  {
   "cell_type": "code",
   "source": [
    "for i in range(len(tag_a) - 2):\n",
    "  print(tag_a[i].contents)\n",
    "# On retire 2 car on ne veut pas récupérer les 2 dernières lignes qui ne \n",
    "# contiennent pas de phrases à caractère financier"
   ],
   "metadata": {
    "colab": {
     "base_uri": "https://localhost:8080/"
    },
    "id": "arSEmsToi7iV",
    "executionInfo": {
     "status": "ok",
     "timestamp": 1680506421956,
     "user_tz": -120,
     "elapsed": 198,
     "user": {
      "displayName": "Ludovic Danlos",
      "userId": "07066482761641334028"
     }
    },
    "outputId": "1b4d4b3a-1f15-4071-9e57-9f6574fe7100"
   },
   "execution_count": 22,
   "outputs": [
    {
     "name": "stdout",
     "output_type": "stream",
     "text": [
      "['FirstFT: Trump blasts ‘election interference’ after historic charges']\n",
      "['EU trade deal with South America\\xa0delayed\\xa0by row over environmental rules']\n",
      "['BoE’s chief economist hints at May interest rate rise']\n",
      "['Waging war on trade will be costly']\n",
      "['Personal inflation calculator: what is your inflation rate?']\n",
      "['US job openings fall to lowest level in almost two years']\n",
      "['Opec isn’t scaring anyone']\n",
      "['FirstFT: Trump prepares to face charges']\n",
      "['How Spain has taken on the problem of precarious work  ']\n",
      "['China Inc keen on setting up shop in the US despite tensions']\n",
      "['Surprise cut by Opec+ fuels optimism for oil companies']\n",
      "['Israel political crisis could cut 2.8% a year from GDP, central bank warns']\n",
      "['High inflation boosts public finances, IMF says']\n",
      "['Europe’s aversion to anti-coercion']\n",
      "['FirstFT: Oil prices surge']\n",
      "['China’s ports dominance undermines western aims to loosen trade ties']\n",
      "['The financial turmoil is not over']\n",
      "['How China is winning the race for Africa’s lithium']\n",
      "['Peace on Earth postponed']\n",
      "['Iraqi authorities reach preliminary deal to resume oil exports to Turkey']\n",
      "['UK financial system ‘locking out’ growing numbers of people']\n",
      "['Canada warns US against waging ‘carbon subsidy war’']\n",
      "['Will the pace of US hiring slow? ']\n",
      "['Car loan cost surge pressures manufacturers to reinstate discounts']\n",
      "['Europe’s foothold slips in Africa']\n"
     ]
    }
   ]
  },
  {
   "cell_type": "code",
   "execution_count": 23,
   "outputs": [
    {
     "name": "stdout",
     "output_type": "stream",
     "text": [
      "ok\n"
     ]
    }
   ],
   "source": [
    "phrases_web = [['Phrases']]\n",
    "for j in range(len(tag_a) - 2):\n",
    "  phrases_web.append(tag_a[j].contents)\n",
    "print(\"ok\")\n",
    "# Ici on rassemble les phrases qu'on vient d'identifier dans un tableau"
   ],
   "metadata": {
    "colab": {
     "base_uri": "https://localhost:8080/"
    },
    "id": "OnDg55ym_G_0",
    "executionInfo": {
     "status": "ok",
     "timestamp": 1680506428576,
     "user_tz": -120,
     "elapsed": 187,
     "user": {
      "displayName": "Ludovic Danlos",
      "userId": "07066482761641334028"
     }
    },
    "outputId": "e258702f-74c9-402f-bec5-38b81528dfce"
   }
  },
  {
   "cell_type": "code",
   "execution_count": 24,
   "outputs": [
    {
     "name": "stdout",
     "output_type": "stream",
     "text": [
      "['Phrases']\n",
      "['FirstFT: Trump blasts ‘election interference’ after historic charges']\n",
      "['EU trade deal with South America\\xa0delayed\\xa0by row over environmental rules']\n",
      "['BoE’s chief economist hints at May interest rate rise']\n",
      "['Waging war on trade will be costly']\n",
      "['Personal inflation calculator: what is your inflation rate?']\n",
      "['US job openings fall to lowest level in almost two years']\n",
      "['Opec isn’t scaring anyone']\n",
      "['FirstFT: Trump prepares to face charges']\n",
      "['How Spain has taken on the problem of precarious work  ']\n",
      "['China Inc keen on setting up shop in the US despite tensions']\n",
      "['Surprise cut by Opec+ fuels optimism for oil companies']\n",
      "['Israel political crisis could cut 2.8% a year from GDP, central bank warns']\n",
      "['High inflation boosts public finances, IMF says']\n",
      "['Europe’s aversion to anti-coercion']\n",
      "['FirstFT: Oil prices surge']\n",
      "['China’s ports dominance undermines western aims to loosen trade ties']\n",
      "['The financial turmoil is not over']\n",
      "['How China is winning the race for Africa’s lithium']\n",
      "['Peace on Earth postponed']\n",
      "['Iraqi authorities reach preliminary deal to resume oil exports to Turkey']\n",
      "['UK financial system ‘locking out’ growing numbers of people']\n",
      "['Canada warns US against waging ‘carbon subsidy war’']\n",
      "['Will the pace of US hiring slow? ']\n",
      "['Car loan cost surge pressures manufacturers to reinstate discounts']\n",
      "['Europe’s foothold slips in Africa']\n"
     ]
    }
   ],
   "source": [
    "for k in range(len(phrases_web)):\n",
    "  print(phrases_web[k])\n",
    "# On vérifie que nos phrases sont bien dans le tableau"
   ],
   "metadata": {
    "colab": {
     "base_uri": "https://localhost:8080/"
    },
    "id": "rvC_CIZz_G_1",
    "executionInfo": {
     "status": "ok",
     "timestamp": 1680506445334,
     "user_tz": -120,
     "elapsed": 189,
     "user": {
      "displayName": "Ludovic Danlos",
      "userId": "07066482761641334028"
     }
    },
    "outputId": "8014593b-2318-411b-a206-4e8051f15168"
   }
  },
  {
   "cell_type": "markdown",
   "source": [
    "### Ecriture des données dans un fichier csv"
   ],
   "metadata": {
    "collapsed": false,
    "id": "3olIoXjM_G_1"
   }
  },
  {
   "cell_type": "code",
   "execution_count": 25,
   "outputs": [
    {
     "data": {
      "text/plain": "str"
     },
     "execution_count": 25,
     "metadata": {},
     "output_type": "execute_result"
    }
   ],
   "source": [
    "type(phrases_web[0][0])\n",
    "# On vérifie le type de nos phrases"
   ],
   "metadata": {
    "colab": {
     "base_uri": "https://localhost:8080/"
    },
    "id": "UpYbGc0A_G_2",
    "executionInfo": {
     "status": "ok",
     "timestamp": 1680506462390,
     "user_tz": -120,
     "elapsed": 527,
     "user": {
      "displayName": "Ludovic Danlos",
      "userId": "07066482761641334028"
     }
    },
    "outputId": "f73e975c-e3cb-4361-c8d8-bf9dd187971a"
   }
  },
  {
   "cell_type": "code",
   "execution_count": 26,
   "outputs": [
    {
     "data": {
      "text/plain": "str"
     },
     "execution_count": 26,
     "metadata": {},
     "output_type": "execute_result"
    }
   ],
   "source": [
    "for l in range(len(phrases_web)):\n",
    "  phrases_web[l][0] = str(phrases_web[l][0])\n",
    "type(phrases_web[0][0])\n",
    "# Le type de nos phrases est un type propre à la librairie BeautifulSoup.\n",
    "# On convertit les phrases en objet de type string pour éviter d'éventuels problème lors de l'écriture en csv."
   ],
   "metadata": {
    "colab": {
     "base_uri": "https://localhost:8080/"
    },
    "id": "vzqdI9xX_G_2",
    "executionInfo": {
     "status": "ok",
     "timestamp": 1680506466775,
     "user_tz": -120,
     "elapsed": 845,
     "user": {
      "displayName": "Ludovic Danlos",
      "userId": "07066482761641334028"
     }
    },
    "outputId": "dc633b6f-360b-4ac4-bf01-f912b3603901"
   }
  },
  {
   "cell_type": "code",
   "execution_count": 27,
   "outputs": [
    {
     "name": "stdout",
     "output_type": "stream",
     "text": [
      "ok\n"
     ]
    }
   ],
   "source": [
    "with open(\"../data/web.csv\", \"w\", newline='', encoding='utf-8') as csvfile:\n",
    "  writer = csv.writer(csvfile, delimiter=',')\n",
    "  writer.writerows(phrases_web)\n",
    "  print(\"ok\")"
   ],
   "metadata": {
    "colab": {
     "base_uri": "https://localhost:8080/",
     "height": 218
    },
    "id": "yxRvHz66_G_2",
    "executionInfo": {
     "status": "error",
     "timestamp": 1680506473942,
     "user_tz": -120,
     "elapsed": 178,
     "user": {
      "displayName": "Ludovic Danlos",
      "userId": "07066482761641334028"
     }
    },
    "outputId": "1b411325-3bc3-4b26-80ee-7bf413686699"
   }
  },
  {
   "cell_type": "markdown",
   "source": [
    "### Récupération des données et du modèle"
   ],
   "metadata": {
    "id": "wkxSMCxDADIw"
   }
  },
  {
   "cell_type": "code",
   "execution_count": 28,
   "outputs": [],
   "source": [
    "import pandas as pan\n",
    "from joblib import load"
   ],
   "metadata": {
    "id": "2Is5fYKV_G_3"
   }
  },
  {
   "cell_type": "code",
   "source": [
    "# Récupération des phrases scrapées\n",
    "dataframe_web = pan.read_csv(\"../data/web.csv\")\n",
    "dataframe_web"
   ],
   "metadata": {
    "id": "wGodh7EuDwbo"
   },
   "execution_count": 29,
   "outputs": [
    {
     "data": {
      "text/plain": "                                              Phrases\n0   FirstFT: Trump blasts ‘election interference’ ...\n1   EU trade deal with South America delayed by ro...\n2   BoE’s chief economist hints at May interest ra...\n3                  Waging war on trade will be costly\n4   Personal inflation calculator: what is your in...\n5   US job openings fall to lowest level in almost...\n6                           Opec isn’t scaring anyone\n7             FirstFT: Trump prepares to face charges\n8   How Spain has taken on the problem of precario...\n9   China Inc keen on setting up shop in the US de...\n10  Surprise cut by Opec+ fuels optimism for oil c...\n11  Israel political crisis could cut 2.8% a year ...\n12    High inflation boosts public finances, IMF says\n13                 Europe’s aversion to anti-coercion\n14                          FirstFT: Oil prices surge\n15  China’s ports dominance undermines western aim...\n16                  The financial turmoil is not over\n17  How China is winning the race for Africa’s lit...\n18                           Peace on Earth postponed\n19  Iraqi authorities reach preliminary deal to re...\n20  UK financial system ‘locking out’ growing numb...\n21  Canada warns US against waging ‘carbon subsidy...\n22                  Will the pace of US hiring slow? \n23  Car loan cost surge pressures manufacturers to...\n24                  Europe’s foothold slips in Africa",
      "text/html": "<div>\n<style scoped>\n    .dataframe tbody tr th:only-of-type {\n        vertical-align: middle;\n    }\n\n    .dataframe tbody tr th {\n        vertical-align: top;\n    }\n\n    .dataframe thead th {\n        text-align: right;\n    }\n</style>\n<table border=\"1\" class=\"dataframe\">\n  <thead>\n    <tr style=\"text-align: right;\">\n      <th></th>\n      <th>Phrases</th>\n    </tr>\n  </thead>\n  <tbody>\n    <tr>\n      <th>0</th>\n      <td>FirstFT: Trump blasts ‘election interference’ ...</td>\n    </tr>\n    <tr>\n      <th>1</th>\n      <td>EU trade deal with South America delayed by ro...</td>\n    </tr>\n    <tr>\n      <th>2</th>\n      <td>BoE’s chief economist hints at May interest ra...</td>\n    </tr>\n    <tr>\n      <th>3</th>\n      <td>Waging war on trade will be costly</td>\n    </tr>\n    <tr>\n      <th>4</th>\n      <td>Personal inflation calculator: what is your in...</td>\n    </tr>\n    <tr>\n      <th>5</th>\n      <td>US job openings fall to lowest level in almost...</td>\n    </tr>\n    <tr>\n      <th>6</th>\n      <td>Opec isn’t scaring anyone</td>\n    </tr>\n    <tr>\n      <th>7</th>\n      <td>FirstFT: Trump prepares to face charges</td>\n    </tr>\n    <tr>\n      <th>8</th>\n      <td>How Spain has taken on the problem of precario...</td>\n    </tr>\n    <tr>\n      <th>9</th>\n      <td>China Inc keen on setting up shop in the US de...</td>\n    </tr>\n    <tr>\n      <th>10</th>\n      <td>Surprise cut by Opec+ fuels optimism for oil c...</td>\n    </tr>\n    <tr>\n      <th>11</th>\n      <td>Israel political crisis could cut 2.8% a year ...</td>\n    </tr>\n    <tr>\n      <th>12</th>\n      <td>High inflation boosts public finances, IMF says</td>\n    </tr>\n    <tr>\n      <th>13</th>\n      <td>Europe’s aversion to anti-coercion</td>\n    </tr>\n    <tr>\n      <th>14</th>\n      <td>FirstFT: Oil prices surge</td>\n    </tr>\n    <tr>\n      <th>15</th>\n      <td>China’s ports dominance undermines western aim...</td>\n    </tr>\n    <tr>\n      <th>16</th>\n      <td>The financial turmoil is not over</td>\n    </tr>\n    <tr>\n      <th>17</th>\n      <td>How China is winning the race for Africa’s lit...</td>\n    </tr>\n    <tr>\n      <th>18</th>\n      <td>Peace on Earth postponed</td>\n    </tr>\n    <tr>\n      <th>19</th>\n      <td>Iraqi authorities reach preliminary deal to re...</td>\n    </tr>\n    <tr>\n      <th>20</th>\n      <td>UK financial system ‘locking out’ growing numb...</td>\n    </tr>\n    <tr>\n      <th>21</th>\n      <td>Canada warns US against waging ‘carbon subsidy...</td>\n    </tr>\n    <tr>\n      <th>22</th>\n      <td>Will the pace of US hiring slow?</td>\n    </tr>\n    <tr>\n      <th>23</th>\n      <td>Car loan cost surge pressures manufacturers to...</td>\n    </tr>\n    <tr>\n      <th>24</th>\n      <td>Europe’s foothold slips in Africa</td>\n    </tr>\n  </tbody>\n</table>\n</div>"
     },
     "execution_count": 29,
     "metadata": {},
     "output_type": "execute_result"
    }
   ]
  },
  {
   "cell_type": "code",
   "source": [
    "# Récupération du modèle de la Partie 1\n",
    "model = load(\"model.logiR\")"
   ],
   "metadata": {
    "id": "X-4G8FfqEHil"
   },
   "execution_count": 30,
   "outputs": []
  },
  {
   "cell_type": "markdown",
   "source": [
    "### Prédictions sur les données récupérées sur le web"
   ],
   "metadata": {
    "collapsed": false
   }
  },
  {
   "cell_type": "code",
   "execution_count": 31,
   "outputs": [
    {
     "data": {
      "text/plain": "Pipeline(steps=[('tfidf', TfidfVectorizer()),\n                ('LogisticRegression', LogisticRegression())])",
      "text/html": "<style>#sk-container-id-2 {color: black;background-color: white;}#sk-container-id-2 pre{padding: 0;}#sk-container-id-2 div.sk-toggleable {background-color: white;}#sk-container-id-2 label.sk-toggleable__label {cursor: pointer;display: block;width: 100%;margin-bottom: 0;padding: 0.3em;box-sizing: border-box;text-align: center;}#sk-container-id-2 label.sk-toggleable__label-arrow:before {content: \"▸\";float: left;margin-right: 0.25em;color: #696969;}#sk-container-id-2 label.sk-toggleable__label-arrow:hover:before {color: black;}#sk-container-id-2 div.sk-estimator:hover label.sk-toggleable__label-arrow:before {color: black;}#sk-container-id-2 div.sk-toggleable__content {max-height: 0;max-width: 0;overflow: hidden;text-align: left;background-color: #f0f8ff;}#sk-container-id-2 div.sk-toggleable__content pre {margin: 0.2em;color: black;border-radius: 0.25em;background-color: #f0f8ff;}#sk-container-id-2 input.sk-toggleable__control:checked~div.sk-toggleable__content {max-height: 200px;max-width: 100%;overflow: auto;}#sk-container-id-2 input.sk-toggleable__control:checked~label.sk-toggleable__label-arrow:before {content: \"▾\";}#sk-container-id-2 div.sk-estimator input.sk-toggleable__control:checked~label.sk-toggleable__label {background-color: #d4ebff;}#sk-container-id-2 div.sk-label input.sk-toggleable__control:checked~label.sk-toggleable__label {background-color: #d4ebff;}#sk-container-id-2 input.sk-hidden--visually {border: 0;clip: rect(1px 1px 1px 1px);clip: rect(1px, 1px, 1px, 1px);height: 1px;margin: -1px;overflow: hidden;padding: 0;position: absolute;width: 1px;}#sk-container-id-2 div.sk-estimator {font-family: monospace;background-color: #f0f8ff;border: 1px dotted black;border-radius: 0.25em;box-sizing: border-box;margin-bottom: 0.5em;}#sk-container-id-2 div.sk-estimator:hover {background-color: #d4ebff;}#sk-container-id-2 div.sk-parallel-item::after {content: \"\";width: 100%;border-bottom: 1px solid gray;flex-grow: 1;}#sk-container-id-2 div.sk-label:hover label.sk-toggleable__label {background-color: #d4ebff;}#sk-container-id-2 div.sk-serial::before {content: \"\";position: absolute;border-left: 1px solid gray;box-sizing: border-box;top: 0;bottom: 0;left: 50%;z-index: 0;}#sk-container-id-2 div.sk-serial {display: flex;flex-direction: column;align-items: center;background-color: white;padding-right: 0.2em;padding-left: 0.2em;position: relative;}#sk-container-id-2 div.sk-item {position: relative;z-index: 1;}#sk-container-id-2 div.sk-parallel {display: flex;align-items: stretch;justify-content: center;background-color: white;position: relative;}#sk-container-id-2 div.sk-item::before, #sk-container-id-2 div.sk-parallel-item::before {content: \"\";position: absolute;border-left: 1px solid gray;box-sizing: border-box;top: 0;bottom: 0;left: 50%;z-index: -1;}#sk-container-id-2 div.sk-parallel-item {display: flex;flex-direction: column;z-index: 1;position: relative;background-color: white;}#sk-container-id-2 div.sk-parallel-item:first-child::after {align-self: flex-end;width: 50%;}#sk-container-id-2 div.sk-parallel-item:last-child::after {align-self: flex-start;width: 50%;}#sk-container-id-2 div.sk-parallel-item:only-child::after {width: 0;}#sk-container-id-2 div.sk-dashed-wrapped {border: 1px dashed gray;margin: 0 0.4em 0.5em 0.4em;box-sizing: border-box;padding-bottom: 0.4em;background-color: white;}#sk-container-id-2 div.sk-label label {font-family: monospace;font-weight: bold;display: inline-block;line-height: 1.2em;}#sk-container-id-2 div.sk-label-container {text-align: center;}#sk-container-id-2 div.sk-container {/* jupyter's `normalize.less` sets `[hidden] { display: none; }` but bootstrap.min.css set `[hidden] { display: none !important; }` so we also need the `!important` here to be able to override the default hidden behavior on the sphinx rendered scikit-learn.org. See: https://github.com/scikit-learn/scikit-learn/issues/21755 */display: inline-block !important;position: relative;}#sk-container-id-2 div.sk-text-repr-fallback {display: none;}</style><div id=\"sk-container-id-2\" class=\"sk-top-container\"><div class=\"sk-text-repr-fallback\"><pre>Pipeline(steps=[(&#x27;tfidf&#x27;, TfidfVectorizer()),\n                (&#x27;LogisticRegression&#x27;, LogisticRegression())])</pre><b>In a Jupyter environment, please rerun this cell to show the HTML representation or trust the notebook. <br />On GitHub, the HTML representation is unable to render, please try loading this page with nbviewer.org.</b></div><div class=\"sk-container\" hidden><div class=\"sk-item sk-dashed-wrapped\"><div class=\"sk-label-container\"><div class=\"sk-label sk-toggleable\"><input class=\"sk-toggleable__control sk-hidden--visually\" id=\"sk-estimator-id-4\" type=\"checkbox\" ><label for=\"sk-estimator-id-4\" class=\"sk-toggleable__label sk-toggleable__label-arrow\">Pipeline</label><div class=\"sk-toggleable__content\"><pre>Pipeline(steps=[(&#x27;tfidf&#x27;, TfidfVectorizer()),\n                (&#x27;LogisticRegression&#x27;, LogisticRegression())])</pre></div></div></div><div class=\"sk-serial\"><div class=\"sk-item\"><div class=\"sk-estimator sk-toggleable\"><input class=\"sk-toggleable__control sk-hidden--visually\" id=\"sk-estimator-id-5\" type=\"checkbox\" ><label for=\"sk-estimator-id-5\" class=\"sk-toggleable__label sk-toggleable__label-arrow\">TfidfVectorizer</label><div class=\"sk-toggleable__content\"><pre>TfidfVectorizer()</pre></div></div></div><div class=\"sk-item\"><div class=\"sk-estimator sk-toggleable\"><input class=\"sk-toggleable__control sk-hidden--visually\" id=\"sk-estimator-id-6\" type=\"checkbox\" ><label for=\"sk-estimator-id-6\" class=\"sk-toggleable__label sk-toggleable__label-arrow\">LogisticRegression</label><div class=\"sk-toggleable__content\"><pre>LogisticRegression()</pre></div></div></div></div></div></div></div>"
     },
     "execution_count": 31,
     "metadata": {},
     "output_type": "execute_result"
    }
   ],
   "source": [
    "model"
   ],
   "metadata": {
    "collapsed": false
   }
  },
  {
   "cell_type": "code",
   "execution_count": 33,
   "outputs": [
    {
     "data": {
      "text/plain": "array(['neutral', 'neutral', 'positive', 'neutral', 'neutral', 'neutral',\n       'neutral', 'neutral', 'neutral', 'positive', 'negative',\n       'negative', 'neutral', 'neutral', 'neutral', 'positive', 'neutral',\n       'neutral', 'neutral', 'positive', 'neutral', 'neutral', 'neutral',\n       'positive', 'neutral'], dtype=object)"
     },
     "execution_count": 33,
     "metadata": {},
     "output_type": "execute_result"
    }
   ],
   "source": [
    "predictions = model.predict(dataframe_web.Phrases)\n",
    "predictions"
   ],
   "metadata": {
    "collapsed": false
   }
  },
  {
   "cell_type": "code",
   "execution_count": 32,
   "outputs": [],
   "source": [],
   "metadata": {
    "collapsed": false
   }
  }
 ],
 "metadata": {
  "kernelspec": {
   "display_name": "Python 3",
   "language": "python",
   "name": "python3"
  },
  "language_info": {
   "codemirror_mode": {
    "name": "ipython",
    "version": 2
   },
   "file_extension": ".py",
   "mimetype": "text/x-python",
   "name": "python",
   "nbconvert_exporter": "python",
   "pygments_lexer": "ipython2",
   "version": "2.7.6"
  },
  "colab": {
   "provenance": []
  }
 },
 "nbformat": 4,
 "nbformat_minor": 0
}
