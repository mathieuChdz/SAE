{
 "nbformat": 4,
 "nbformat_minor": 0,
 "metadata": {
  "colab": {
   "provenance": [],
   "authorship_tag": "ABX9TyNLB8xaI3GW3IawOsDNVHkw"
  },
  "kernelspec": {
   "name": "python3",
   "display_name": "Python 3"
  },
  "language_info": {
   "name": "python"
  }
 },
 "cells": [
  {
   "cell_type": "markdown",
   "source": [
    "# **Module de Machine Learning**\n",
    "\n",
    "## **Objectif**\n",
    "A termes, ce module de machine learning doit être capable d'aller récupérer les dernières actualités financières du site Financial Times puis, d'afficher ces nouvelles données et leurs sentiments associés."
   ],
   "metadata": {
    "id": "Mu6nXZEU57SR"
   }
  },
  {
   "cell_type": "markdown",
   "source": [
    "## **Partie1**\n",
    "Conception et entraînement d'un modèle de machine learning pour un problème de type classification (méthode choisie par l'équipe).\n",
    "\n",
    "### Prérequis\n",
    "\n",
    "\n",
    "*   Librairie python scikit-learn\n",
    "*   Un dataset public du site Kaggle\n",
    "\n"
   ],
   "metadata": {
    "id": "RQ2nSA5o7cnZ"
   }
  },
  {
   "cell_type": "markdown",
   "source": [
    "### Librairies"
   ],
   "metadata": {
    "id": "tqFbuBzN55HT"
   }
  },
  {
   "cell_type": "code",
   "execution_count": 1,
   "metadata": {
    "id": "D6srp3cc5xmF",
    "executionInfo": {
     "status": "ok",
     "timestamp": 1678699195077,
     "user_tz": -60,
     "elapsed": 525,
     "user": {
      "displayName": "Ludovic Danlos",
      "userId": "07066482761641334028"
     }
    }
   },
   "outputs": [],
   "source": [
    "# Importation des librairies nécessaires\n",
    "import pandas as pan\n",
    "import numpy as np\n",
    "\n",
    "from sklearn.decomposition import PCA\n",
    "from sklearn.manifold import TSNE\n",
    "from sklearn.preprocessing import Normalizer\n",
    "from sklearn.cluster import KMeans\n",
    "\n",
    "import matplotlib.pyplot as plt"
   ]
  },
  {
   "cell_type": "markdown",
   "source": [
    "### Récupération des données"
   ],
   "metadata": {
    "id": "t4iflvOXDJRG"
   }
  },
  {
   "cell_type": "code",
   "source": [
    "# Récupération du dataset depuis google drive\n",
    "# from google.colab import drive\n",
    "# drive.mount('/content/drive')"
   ],
   "metadata": {
    "colab": {
     "base_uri": "https://localhost:8080/"
    },
    "id": "SCBomUTgA5U6",
    "executionInfo": {
     "status": "ok",
     "timestamp": 1678697883708,
     "user_tz": -60,
     "elapsed": 27226,
     "user": {
      "displayName": "Ludovic Danlos",
      "userId": "07066482761641334028"
     }
    },
    "outputId": "2ade143a-30d7-4754-ed19-262166e46bf4"
   },
   "execution_count": 1,
   "outputs": [
    {
     "output_type": "stream",
     "name": "stdout",
     "text": [
      "Mounted at /content/drive\n"
     ]
    }
   ]
  },
  {
   "cell_type": "code",
   "source": [
    "# Récupération du dataset\n",
    "trainSet = pan.read_csv(\"../data/data.csv\")\n",
    "trainSet"
   ],
   "metadata": {
    "colab": {
     "base_uri": "https://localhost:8080/",
     "height": 424
    },
    "id": "tLZlgegxL-1w",
    "executionInfo": {
     "status": "ok",
     "timestamp": 1678699362504,
     "user_tz": -60,
     "elapsed": 7,
     "user": {
      "displayName": "Ludovic Danlos",
      "userId": "07066482761641334028"
     }
    },
    "outputId": "e6731ec2-7b1f-4dbc-9786-d0cbdfef051a"
   },
   "execution_count": 3,
   "outputs": [
    {
     "data": {
      "text/plain": "                                               Sentence Sentiment\n0     The GeoSolutions technology will leverage Bene...  positive\n1     $ESI on lows, down $1.50 to $2.50 BK a real po...  negative\n2     For the last quarter of 2010 , Componenta 's n...  positive\n3     According to the Finnish-Russian Chamber of Co...   neutral\n4     The Swedish buyout firm has sold its remaining...   neutral\n...                                                 ...       ...\n5837  RISING costs have forced packaging producer Hu...  negative\n5838  Nordic Walking was first used as a summer trai...   neutral\n5839  According shipping company Viking Line , the E...   neutral\n5840  In the building and home improvement trade , s...   neutral\n5841  HELSINKI AFX - KCI Konecranes said it has won ...  positive\n\n[5842 rows x 2 columns]",
      "text/html": "<div>\n<style scoped>\n    .dataframe tbody tr th:only-of-type {\n        vertical-align: middle;\n    }\n\n    .dataframe tbody tr th {\n        vertical-align: top;\n    }\n\n    .dataframe thead th {\n        text-align: right;\n    }\n</style>\n<table border=\"1\" class=\"dataframe\">\n  <thead>\n    <tr style=\"text-align: right;\">\n      <th></th>\n      <th>Sentence</th>\n      <th>Sentiment</th>\n    </tr>\n  </thead>\n  <tbody>\n    <tr>\n      <th>0</th>\n      <td>The GeoSolutions technology will leverage Bene...</td>\n      <td>positive</td>\n    </tr>\n    <tr>\n      <th>1</th>\n      <td>$ESI on lows, down $1.50 to $2.50 BK a real po...</td>\n      <td>negative</td>\n    </tr>\n    <tr>\n      <th>2</th>\n      <td>For the last quarter of 2010 , Componenta 's n...</td>\n      <td>positive</td>\n    </tr>\n    <tr>\n      <th>3</th>\n      <td>According to the Finnish-Russian Chamber of Co...</td>\n      <td>neutral</td>\n    </tr>\n    <tr>\n      <th>4</th>\n      <td>The Swedish buyout firm has sold its remaining...</td>\n      <td>neutral</td>\n    </tr>\n    <tr>\n      <th>...</th>\n      <td>...</td>\n      <td>...</td>\n    </tr>\n    <tr>\n      <th>5837</th>\n      <td>RISING costs have forced packaging producer Hu...</td>\n      <td>negative</td>\n    </tr>\n    <tr>\n      <th>5838</th>\n      <td>Nordic Walking was first used as a summer trai...</td>\n      <td>neutral</td>\n    </tr>\n    <tr>\n      <th>5839</th>\n      <td>According shipping company Viking Line , the E...</td>\n      <td>neutral</td>\n    </tr>\n    <tr>\n      <th>5840</th>\n      <td>In the building and home improvement trade , s...</td>\n      <td>neutral</td>\n    </tr>\n    <tr>\n      <th>5841</th>\n      <td>HELSINKI AFX - KCI Konecranes said it has won ...</td>\n      <td>positive</td>\n    </tr>\n  </tbody>\n</table>\n<p>5842 rows × 2 columns</p>\n</div>"
     },
     "execution_count": 3,
     "metadata": {},
     "output_type": "execute_result"
    }
   ]
  },
  {
   "cell_type": "markdown",
   "source": [
    "### Entrainements du modèle"
   ],
   "metadata": {
    "id": "KmttndVfQANd"
   }
  },
  {
   "cell_type": "code",
   "source": [
    "# D'abord on \"normalise\" le modèle\n",
    "\n",
    "normalizer = Normalizer()\n",
    "X = normalizer.fit_transform(trainSet)"
   ],
   "metadata": {
    "id": "StRCfxARP-mV"
   },
   "execution_count": null,
   "outputs": []
  }
 ]
}
