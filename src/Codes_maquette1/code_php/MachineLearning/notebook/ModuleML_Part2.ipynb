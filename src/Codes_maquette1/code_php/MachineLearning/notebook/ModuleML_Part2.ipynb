{
 "cells": [
  {
   "cell_type": "markdown",
   "source": [
    "# **Module de Machine Learning**\n",
    "\n",
    "# **Partie 2  : Web Scraping**"
   ],
   "metadata": {
    "collapsed": false
   }
  },
  {
   "cell_type": "markdown",
   "source": [
    "### Librairies"
   ],
   "metadata": {
    "collapsed": false
   }
  },
  {
   "cell_type": "code",
   "execution_count": 6,
   "outputs": [],
   "source": [
    "from bs4 import BeautifulSoup\n",
    "import requests"
   ],
   "metadata": {
    "collapsed": false
   }
  },
  {
   "cell_type": "markdown",
   "source": [
    "### Script de récupération de données financières (Financial Times)"
   ],
   "metadata": {
    "collapsed": false
   }
  },
  {
   "cell_type": "markdown",
   "source": [
    "#### Récupération d'une page web"
   ],
   "metadata": {
    "collapsed": false
   }
  },
  {
   "cell_type": "code",
   "execution_count": 7,
   "outputs": [
    {
     "data": {
      "text/plain": "<Response [200]>"
     },
     "execution_count": 7,
     "metadata": {},
     "output_type": "execute_result"
    }
   ],
   "source": [
    "response = requests.get(\"https://www.ft.com/global-economy\")\n",
    "\n",
    "response\n",
    "# Si response renvoie <Response 200> la requête à bien fonctionner et la variable response contient la page web correspondant à l'url.\n",
    "# En revanche <Response 404> indique une erreur."
   ],
   "metadata": {
    "collapsed": false
   }
  },
  {
   "cell_type": "markdown",
   "source": [
    "#### Parsing du contenu de la page web"
   ],
   "metadata": {
    "collapsed": false
   }
  },
  {
   "cell_type": "code",
   "execution_count": 8,
   "outputs": [
    {
     "data": {
      "text/plain": "<title>Global Economy | Financial Times</title>"
     },
     "execution_count": 8,
     "metadata": {},
     "output_type": "execute_result"
    }
   ],
   "source": [
    "soup = BeautifulSoup(response.content, 'html.parser')\n",
    "\n",
    "soup.title\n",
    "# Normalement, on devrait avoir récupérer les données du site du Financial Times"
   ],
   "metadata": {
    "collapsed": false
   }
  },
  {
   "cell_type": "markdown",
   "source": [
    "### Isolation des données qui nous intéressent"
   ],
   "metadata": {
    "collapsed": false
   }
  },
  {
   "cell_type": "code",
   "execution_count": 15,
   "outputs": [
    {
     "data": {
      "text/plain": "[<a class=\"js-teaser-heading-link\" data-trackable=\"heading-link\" href=\"/content/dc9e7bcc-8028-4774-a139-50e9e3146eac\">US bends to EU pleading on access to green tech handouts</a>,\n <a class=\"js-teaser-heading-link\" data-trackable=\"heading-link\" href=\"/content/3c0ed315-27dc-4e24-939f-6968f359b04f\">FirstFT: Swiss rivals court Credit Suisse bankers and clients</a>,\n <a class=\"js-teaser-heading-link\" data-trackable=\"heading-link\" href=\"/content/df135020-1cb3-43a7-be6b-5986bca5ea94\">Ukraine grain glut hits agribusiness in neighbouring countries</a>,\n <a aria-label=\"Listen to podcast Beijing’s big bailouts\" class=\"js-teaser-heading-link\" data-trackable=\"heading-link\" href=\"/content/10ec2d71-14f6-4688-933e-a3a0488c0d22\">Beijing’s big bailouts</a>,\n <a class=\"js-teaser-heading-link\" data-trackable=\"heading-link\" href=\"/content/ebd0b824-3f28-4d73-8d14-2471961a34e2\">Northern Ireland stuck in political paralysis despite Brexit deal  </a>,\n <a class=\"js-teaser-heading-link\" data-trackable=\"heading-link\" href=\"/content/179b9acf-e375-4471-990e-39c9772ada3b\">Monetary policy is not solely to blame for this banking crisis</a>,\n <a class=\"js-teaser-heading-link\" data-trackable=\"heading-link\" href=\"/content/9b2cb53f-e6f0-479e-bb94-a2e0c8680e88\">China grants billions in bailouts as Belt and Road Initiative falters</a>,\n <a class=\"js-teaser-heading-link\" data-trackable=\"heading-link\" href=\"/content/6f77236e-3cd7-4d95-a5fd-f86b7769ae6e\">EU agrees trade defence tool against China</a>,\n <a class=\"js-teaser-heading-link\" data-trackable=\"heading-link\" href=\"/content/d13242a6-503d-432f-96ed-d4d9ce712a15\">Against the World — a panoramic history of anti-globalisation</a>,\n <a class=\"js-teaser-heading-link\" data-trackable=\"heading-link\" href=\"/content/f4e7d544-e6c7-419e-82cf-5cb07d4c28b4\">FirstFT: Netanyahu retreats on judicial overhaul after Israel protests</a>,\n <a class=\"js-teaser-heading-link\" data-trackable=\"heading-link\" href=\"/content/9efcc6b4-688b-4004-bb87-440e0438da79\">UK food prices rise at record rate, Kantar data shows</a>,\n <a class=\"js-teaser-heading-link\" data-trackable=\"heading-link\" href=\"/content/a27aa16a-abbe-4fb0-8fcd-1101973b9165\">That big Chinese bailout loan paper in full</a>,\n <a class=\"js-teaser-heading-link\" data-trackable=\"heading-link\" href=\"/content/03cbcccf-551e-4145-80ac-08d79f18e102\">Inflation targets have left central banks in a bind </a>,\n <a class=\"js-teaser-heading-link\" data-trackable=\"heading-link\" href=\"/content/c8532c5e-abf2-4fba-9cc6-69a9726b3473\">US and Japan strike trade deal on critical minerals for electric car batteries</a>,\n <a class=\"js-teaser-heading-link\" data-trackable=\"heading-link\" href=\"/content/0442f782-a3d3-41c9-9c09-46f96967a7d5\">Fruit and vegetable shortages push UK food inflation to record high</a>,\n <a class=\"js-teaser-heading-link\" data-trackable=\"heading-link\" href=\"/content/7dec4483-ad34-4007-bb3a-7ac925643999\">Generative AI set to affect 300mn jobs across major economies</a>,\n <a class=\"js-teaser-heading-link\" data-trackable=\"heading-link\" href=\"/content/5b8386cc-7abb-40ef-8306-249b2cead789\">Money pulled from eurozone banks at record rate in February </a>,\n <a class=\"js-teaser-heading-link\" data-trackable=\"heading-link\" href=\"/content/d60bd40a-ee57-4675-afd0-0d55e59f6bab\">Top Fed official blasts SVB collapse as ‘textbook case of mismanagement’</a>,\n <a class=\"js-teaser-heading-link\" data-trackable=\"heading-link\" href=\"/content/ad7d767f-83bb-4e67-a4eb-f06e5110d6a4\">Financial turmoil will not stand in the way of further rate rises says Bailey </a>,\n <a class=\"js-teaser-heading-link\" data-trackable=\"heading-link\" href=\"/content/43ca7008-e1a7-4bf5-9139-e4e8cdf43d73\">Banking turmoil eases but threat of wide and lasting impact remains</a>,\n <a class=\"js-teaser-heading-link\" data-trackable=\"heading-link\" href=\"/content/d845249b-9191-4655-8843-dc403c1487f2\">World Bank warns global economy at risk of lost decade of growth</a>,\n <a class=\"js-teaser-heading-link\" data-trackable=\"heading-link\" href=\"/content/ac91a6a5-5705-4d9f-bae8-c2b431942889\">Investors slash expectations of global rate rises after banking turmoil</a>,\n <a class=\"js-teaser-heading-link\" data-trackable=\"heading-link\" href=\"/content/4d6efe60-e0a4-4ed0-84e5-e408428ffa05\">How China may keep subverting sovereign debt workouts</a>,\n <a class=\"js-teaser-heading-link\" data-trackable=\"heading-link\" href=\"/content/9d481c9f-7775-4208-9003-b61cf0e67bf5\">FirstFT: First Citizens agrees to buy Silicon Valley Bank</a>,\n <a class=\"js-teaser-heading-link\" data-trackable=\"heading-link\" href=\"/content/f324be0d-191e-4943-97fd-51a8d46e286c\">Wind sector faces supply chain crunch this decade, industry body warns</a>,\n <a class=\"js-teaser-heading-link\" data-trackable=\"heading-link\" href=\"https://twitter.com/fteconomics\">Follow us on Twitter @FTEconomics</a>,\n <a class=\"js-teaser-heading-link\" data-trackable=\"heading-link\" href=\"https://ep.ft.com/newsletters/subscribe?newsletterIds=56388465e4b0c3d64132e189\">Sign up for the Martin Sandbu’s Free Lunch newsletter</a>]"
     },
     "execution_count": 15,
     "metadata": {},
     "output_type": "execute_result"
    }
   ],
   "source": [
    "tag_a = soup.find_all(\"a\", class_=\"js-teaser-heading-link\")\n",
    "tag_a"
   ],
   "metadata": {
    "collapsed": false
   }
  },
  {
   "cell_type": "code",
   "execution_count": null,
   "outputs": [],
   "source": [],
   "metadata": {
    "collapsed": false
   }
  }
 ],
 "metadata": {
  "kernelspec": {
   "display_name": "Python 3",
   "language": "python",
   "name": "python3"
  },
  "language_info": {
   "codemirror_mode": {
    "name": "ipython",
    "version": 2
   },
   "file_extension": ".py",
   "mimetype": "text/x-python",
   "name": "python",
   "nbconvert_exporter": "python",
   "pygments_lexer": "ipython2",
   "version": "2.7.6"
  }
 },
 "nbformat": 4,
 "nbformat_minor": 0
}
