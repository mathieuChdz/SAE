{
 "cells": [
  {
   "cell_type": "markdown",
   "source": [
    "# **Module de Machine Learning**\n",
    "\n",
    "# **Partie 2  : Web Scraping**"
   ],
   "metadata": {
    "collapsed": false,
    "id": "y_V2rTZ9b7CA"
   }
  },
  {
   "cell_type": "markdown",
   "source": [
    "### Librairies"
   ],
   "metadata": {
    "collapsed": false,
    "id": "7HEhQ4Xpb7CH"
   }
  },
  {
   "cell_type": "code",
   "execution_count": 2,
   "outputs": [],
   "source": [
    "from bs4 import BeautifulSoup\n",
    "import requests\n",
    "import csv"
   ],
   "metadata": {
    "id": "9ZTB-s8mb7CI",
    "executionInfo": {
     "status": "ok",
     "timestamp": 1680506406012,
     "user_tz": -120,
     "elapsed": 687,
     "user": {
      "displayName": "Ludovic Danlos",
      "userId": "07066482761641334028"
     }
    }
   }
  },
  {
   "cell_type": "markdown",
   "source": [
    "### Script de récupération de données financières (Financial Times)"
   ],
   "metadata": {
    "collapsed": false,
    "id": "d7su5zclb7CJ"
   }
  },
  {
   "cell_type": "markdown",
   "source": [
    "#### Récupération d'une page web"
   ],
   "metadata": {
    "collapsed": false,
    "id": "CX8kTAhOb7CK"
   }
  },
  {
   "cell_type": "code",
   "execution_count": 3,
   "outputs": [
    {
     "data": {
      "text/plain": "<Response [200]>"
     },
     "execution_count": 3,
     "metadata": {},
     "output_type": "execute_result"
    }
   ],
   "source": [
    "response = requests.get(\"https://www.ft.com/global-economy\")\n",
    "\n",
    "response\n",
    "# Si response renvoie <Response 200> la requête à bien fonctionner et la variable response contient la page web correspondant à l'url.\n",
    "# En revanche <Response 404> indique une erreur."
   ],
   "metadata": {
    "colab": {
     "base_uri": "https://localhost:8080/"
    },
    "id": "5jYf0ZTIb7CL",
    "executionInfo": {
     "status": "ok",
     "timestamp": 1680506410317,
     "user_tz": -120,
     "elapsed": 648,
     "user": {
      "displayName": "Ludovic Danlos",
      "userId": "07066482761641334028"
     }
    },
    "outputId": "949c972d-cf59-49f5-9c1b-e8029c0fa11f"
   }
  },
  {
   "cell_type": "markdown",
   "source": [
    "#### Parsing du contenu de la page web"
   ],
   "metadata": {
    "collapsed": false,
    "id": "Zf3Y7YdTb7CM"
   }
  },
  {
   "cell_type": "code",
   "execution_count": 4,
   "outputs": [
    {
     "data": {
      "text/plain": "<title>Global Economy | Financial Times</title>"
     },
     "execution_count": 4,
     "metadata": {},
     "output_type": "execute_result"
    }
   ],
   "source": [
    "soup = BeautifulSoup(response.content, 'html.parser')\n",
    "\n",
    "soup.title\n",
    "# Normalement, on devrait avoir récupérer les données du site du Financial Times"
   ],
   "metadata": {
    "colab": {
     "base_uri": "https://localhost:8080/"
    },
    "id": "txaOOF3qb7CN",
    "executionInfo": {
     "status": "ok",
     "timestamp": 1680506412738,
     "user_tz": -120,
     "elapsed": 306,
     "user": {
      "displayName": "Ludovic Danlos",
      "userId": "07066482761641334028"
     }
    },
    "outputId": "40f0acb4-5f22-45be-82df-af1c4922b82f"
   }
  },
  {
   "cell_type": "markdown",
   "source": [
    "### Isolation des données qui nous intéressent"
   ],
   "metadata": {
    "collapsed": false,
    "id": "O9WOt0IIb7CO"
   }
  },
  {
   "cell_type": "code",
   "execution_count": 5,
   "outputs": [
    {
     "data": {
      "text/plain": "[<a class=\"js-teaser-heading-link\" data-trackable=\"heading-link\" href=\"/content/6890be22-9280-460a-bd2a-3c45f2cf531f\">BoE’s chief economist hints at May interest rate rise</a>,\n <a class=\"js-teaser-heading-link\" data-trackable=\"heading-link\" href=\"/content/92d95586-f1eb-4148-ae32-1864f7deeb43\">Waging war on trade will be costly</a>,\n <a class=\"js-teaser-heading-link\" data-trackable=\"heading-link\" href=\"/content/95745636-2d21-46aa-b0f1-6bda1c0fdd0b\">Personal inflation calculator: what is your inflation rate?</a>,\n <a class=\"js-teaser-heading-link\" data-trackable=\"heading-link\" href=\"/content/b7340b0f-7919-40d6-9f93-604f005e6551\">US job openings fall to lowest level in almost two years</a>,\n <a class=\"js-teaser-heading-link\" data-trackable=\"heading-link\" href=\"/content/535de452-e27d-4b8b-84bf-58ab4e910e86\">Opec isn’t scaring anyone</a>,\n <a class=\"js-teaser-heading-link\" data-trackable=\"heading-link\" href=\"/content/b757a212-6898-45c4-9cb4-d2d851b4a70e\">FirstFT: Trump prepares to face charges</a>,\n <a class=\"js-teaser-heading-link\" data-trackable=\"heading-link\" href=\"/content/293aa201-c63b-4144-86b9-84e7bd892d69\">How Spain has taken on the problem of precarious work  </a>,\n <a class=\"js-teaser-heading-link\" data-trackable=\"heading-link\" href=\"/content/c15a8a59-eb48-421b-84a6-f4c138aeddb5\">China Inc keen on setting up shop in the US despite tensions</a>,\n <a class=\"js-teaser-heading-link\" data-trackable=\"heading-link\" href=\"/content/c6e8a8b6-1fa5-4b38-b392-272fc9ec9285\">Surprise cut by Opec+ fuels optimism for oil companies</a>,\n <a class=\"js-teaser-heading-link\" data-trackable=\"heading-link\" href=\"/content/9c438696-2cf5-426c-b1da-f797cfc5019a\">Israel political crisis could cut 2.8% a year from GDP, central bank warns</a>,\n <a class=\"js-teaser-heading-link\" data-trackable=\"heading-link\" href=\"/content/07a1b2ce-fab5-4362-9e1d-d60d0a16d1d4\">High inflation boosts public finances, IMF says</a>,\n <a class=\"js-teaser-heading-link\" data-trackable=\"heading-link\" href=\"/content/9b260579-7cb4-44a0-ac6e-ed5ca4908334\">Europe’s aversion to anti-coercion</a>,\n <a class=\"js-teaser-heading-link\" data-trackable=\"heading-link\" href=\"/content/0c42c8c9-4922-4c4e-882c-2be3b24a72a6\">FirstFT: Oil prices surge</a>,\n <a class=\"js-teaser-heading-link\" data-trackable=\"heading-link\" href=\"/content/a7c2b2f6-e106-436d-a599-cfcc69d18b05\">China’s ports dominance undermines western aims to loosen trade ties</a>,\n <a class=\"js-teaser-heading-link\" data-trackable=\"heading-link\" href=\"/content/8951f7fe-43af-49d9-8641-a0d79bbd5bda\">The financial turmoil is not over</a>,\n <a class=\"js-teaser-heading-link\" data-trackable=\"heading-link\" href=\"/content/02d6f35d-e646-40f7-894c-ffcc6acd9b25\">How China is winning the race for Africa’s lithium</a>,\n <a class=\"js-teaser-heading-link\" data-trackable=\"heading-link\" href=\"/content/44420b37-8fbb-410d-bc4f-081537b2ee38\">Peace on Earth postponed</a>,\n <a class=\"js-teaser-heading-link\" data-trackable=\"heading-link\" href=\"/content/b6f01166-919c-4372-9bca-88f0e67f44c3\">Iraqi authorities reach preliminary deal to resume oil exports to Turkey</a>,\n <a class=\"js-teaser-heading-link\" data-trackable=\"heading-link\" href=\"/content/93a70057-77fe-49d5-a71b-2719c486b3d1\">UK financial system ‘locking out’ growing numbers of people</a>,\n <a class=\"js-teaser-heading-link\" data-trackable=\"heading-link\" href=\"/content/4b102da2-5f3e-4046-8d12-ab9e3ca89332\">Canada warns US against waging ‘carbon subsidy war’</a>,\n <a class=\"js-teaser-heading-link\" data-trackable=\"heading-link\" href=\"/content/50c99e54-0526-421a-be39-97b47f714843\">Will the pace of US hiring slow? </a>,\n <a class=\"js-teaser-heading-link\" data-trackable=\"heading-link\" href=\"/content/0813cc1c-61a6-414e-bf75-3c856565ed62\">Car loan cost surge pressures manufacturers to reinstate discounts</a>,\n <a class=\"js-teaser-heading-link\" data-trackable=\"heading-link\" href=\"/content/fbf04b59-23ee-463d-a0b3-d7e358265cb1\">Europe’s foothold slips in Africa</a>,\n <a class=\"js-teaser-heading-link\" data-trackable=\"heading-link\" href=\"/content/79ddb4bb-cbfc-4e4f-bca8-ef52ea0157c1\">China escalates tech battle with review of US chipmaker Micron </a>,\n <a class=\"js-teaser-heading-link\" data-trackable=\"heading-link\" href=\"/content/4a769cb2-6b57-4a21-92e1-29e36e446285\">Inflation falls ease pressure on central banks</a>,\n <a class=\"js-teaser-heading-link\" data-trackable=\"heading-link\" href=\"https://twitter.com/fteconomics\">Follow us on Twitter @FTEconomics</a>,\n <a class=\"js-teaser-heading-link\" data-trackable=\"heading-link\" href=\"https://ep.ft.com/newsletters/subscribe?newsletterIds=56388465e4b0c3d64132e189\">Sign up for the Martin Sandbu’s Free Lunch newsletter</a>]"
     },
     "execution_count": 5,
     "metadata": {},
     "output_type": "execute_result"
    }
   ],
   "source": [
    "tag_a = soup.find_all(\"a\", class_=\"js-teaser-heading-link\")\n",
    "tag_a"
   ],
   "metadata": {
    "colab": {
     "base_uri": "https://localhost:8080/"
    },
    "id": "V-Fggokvb7CO",
    "executionInfo": {
     "status": "ok",
     "timestamp": 1680506415874,
     "user_tz": -120,
     "elapsed": 205,
     "user": {
      "displayName": "Ludovic Danlos",
      "userId": "07066482761641334028"
     }
    },
    "outputId": "243d5b89-549a-40b1-d584-b4e16daf26e8"
   }
  },
  {
   "cell_type": "code",
   "source": [
    "for i in range(len(tag_a) - 2):\n",
    "  print(tag_a[i].contents)\n",
    "# On retire 2 car on ne veut pas récupérer les 2 dernières lignes qui ne \n",
    "# contiennent pas de phrases à caractère financier"
   ],
   "metadata": {
    "colab": {
     "base_uri": "https://localhost:8080/"
    },
    "id": "arSEmsToi7iV",
    "executionInfo": {
     "status": "ok",
     "timestamp": 1680506421956,
     "user_tz": -120,
     "elapsed": 198,
     "user": {
      "displayName": "Ludovic Danlos",
      "userId": "07066482761641334028"
     }
    },
    "outputId": "1b4d4b3a-1f15-4071-9e57-9f6574fe7100"
   },
   "execution_count": 6,
   "outputs": [
    {
     "name": "stdout",
     "output_type": "stream",
     "text": [
      "['BoE’s chief economist hints at May interest rate rise']\n",
      "['Waging war on trade will be costly']\n",
      "['Personal inflation calculator: what is your inflation rate?']\n",
      "['US job openings fall to lowest level in almost two years']\n",
      "['Opec isn’t scaring anyone']\n",
      "['FirstFT: Trump prepares to face charges']\n",
      "['How Spain has taken on the problem of precarious work  ']\n",
      "['China Inc keen on setting up shop in the US despite tensions']\n",
      "['Surprise cut by Opec+ fuels optimism for oil companies']\n",
      "['Israel political crisis could cut 2.8% a year from GDP, central bank warns']\n",
      "['High inflation boosts public finances, IMF says']\n",
      "['Europe’s aversion to anti-coercion']\n",
      "['FirstFT: Oil prices surge']\n",
      "['China’s ports dominance undermines western aims to loosen trade ties']\n",
      "['The financial turmoil is not over']\n",
      "['How China is winning the race for Africa’s lithium']\n",
      "['Peace on Earth postponed']\n",
      "['Iraqi authorities reach preliminary deal to resume oil exports to Turkey']\n",
      "['UK financial system ‘locking out’ growing numbers of people']\n",
      "['Canada warns US against waging ‘carbon subsidy war’']\n",
      "['Will the pace of US hiring slow? ']\n",
      "['Car loan cost surge pressures manufacturers to reinstate discounts']\n",
      "['Europe’s foothold slips in Africa']\n",
      "['China escalates tech battle with review of US chipmaker Micron ']\n",
      "['Inflation falls ease pressure on central banks']\n"
     ]
    }
   ]
  },
  {
   "cell_type": "code",
   "execution_count": 7,
   "outputs": [
    {
     "name": "stdout",
     "output_type": "stream",
     "text": [
      "ok\n"
     ]
    }
   ],
   "source": [
    "phrases_web = []\n",
    "for j in range(len(tag_a) - 2):\n",
    "  phrases_web.append(tag_a[j].contents)\n",
    "print(\"ok\")\n",
    "# Ici on rassemble les phrases qu'on vient d'identifier dans un tableau"
   ],
   "metadata": {
    "colab": {
     "base_uri": "https://localhost:8080/"
    },
    "id": "OnDg55ym_G_0",
    "executionInfo": {
     "status": "ok",
     "timestamp": 1680506428576,
     "user_tz": -120,
     "elapsed": 187,
     "user": {
      "displayName": "Ludovic Danlos",
      "userId": "07066482761641334028"
     }
    },
    "outputId": "e258702f-74c9-402f-bec5-38b81528dfce"
   }
  },
  {
   "cell_type": "code",
   "execution_count": 8,
   "outputs": [
    {
     "name": "stdout",
     "output_type": "stream",
     "text": [
      "['BoE’s chief economist hints at May interest rate rise']\n",
      "['Waging war on trade will be costly']\n",
      "['Personal inflation calculator: what is your inflation rate?']\n",
      "['US job openings fall to lowest level in almost two years']\n",
      "['Opec isn’t scaring anyone']\n",
      "['FirstFT: Trump prepares to face charges']\n",
      "['How Spain has taken on the problem of precarious work  ']\n",
      "['China Inc keen on setting up shop in the US despite tensions']\n",
      "['Surprise cut by Opec+ fuels optimism for oil companies']\n",
      "['Israel political crisis could cut 2.8% a year from GDP, central bank warns']\n",
      "['High inflation boosts public finances, IMF says']\n",
      "['Europe’s aversion to anti-coercion']\n",
      "['FirstFT: Oil prices surge']\n",
      "['China’s ports dominance undermines western aims to loosen trade ties']\n",
      "['The financial turmoil is not over']\n",
      "['How China is winning the race for Africa’s lithium']\n",
      "['Peace on Earth postponed']\n",
      "['Iraqi authorities reach preliminary deal to resume oil exports to Turkey']\n",
      "['UK financial system ‘locking out’ growing numbers of people']\n",
      "['Canada warns US against waging ‘carbon subsidy war’']\n",
      "['Will the pace of US hiring slow? ']\n",
      "['Car loan cost surge pressures manufacturers to reinstate discounts']\n",
      "['Europe’s foothold slips in Africa']\n",
      "['China escalates tech battle with review of US chipmaker Micron ']\n",
      "['Inflation falls ease pressure on central banks']\n"
     ]
    }
   ],
   "source": [
    "for k in range(len(phrases_web)):\n",
    "  print(phrases_web[k])\n",
    "# On vérifie que nos phrases sont bien dans le tableau"
   ],
   "metadata": {
    "colab": {
     "base_uri": "https://localhost:8080/"
    },
    "id": "rvC_CIZz_G_1",
    "executionInfo": {
     "status": "ok",
     "timestamp": 1680506445334,
     "user_tz": -120,
     "elapsed": 189,
     "user": {
      "displayName": "Ludovic Danlos",
      "userId": "07066482761641334028"
     }
    },
    "outputId": "8014593b-2318-411b-a206-4e8051f15168"
   }
  },
  {
   "cell_type": "markdown",
   "source": [
    "### Ecriture des données dans un fichier csv"
   ],
   "metadata": {
    "collapsed": false,
    "id": "3olIoXjM_G_1"
   }
  },
  {
   "cell_type": "code",
   "execution_count": 9,
   "outputs": [
    {
     "data": {
      "text/plain": "bs4.element.NavigableString"
     },
     "execution_count": 9,
     "metadata": {},
     "output_type": "execute_result"
    }
   ],
   "source": [
    "type(phrases_web[0][0])\n",
    "# On vérifie le type de nos phrases"
   ],
   "metadata": {
    "colab": {
     "base_uri": "https://localhost:8080/"
    },
    "id": "UpYbGc0A_G_2",
    "executionInfo": {
     "status": "ok",
     "timestamp": 1680506462390,
     "user_tz": -120,
     "elapsed": 527,
     "user": {
      "displayName": "Ludovic Danlos",
      "userId": "07066482761641334028"
     }
    },
    "outputId": "f73e975c-e3cb-4361-c8d8-bf9dd187971a"
   }
  },
  {
   "cell_type": "code",
   "execution_count": 10,
   "outputs": [
    {
     "data": {
      "text/plain": "str"
     },
     "execution_count": 10,
     "metadata": {},
     "output_type": "execute_result"
    }
   ],
   "source": [
    "for l in range(len(phrases_web)):\n",
    "  phrases_web[l][0] = str(phrases_web[l][0])\n",
    "type(phrases_web[0][0])\n",
    "# Le type de nos phrases est un type propre à la librairie BeautifulSoup.\n",
    "# On convertit les phrases en objet de type string pour éviter d'éventuels problème lors de l'écriture en csv."
   ],
   "metadata": {
    "colab": {
     "base_uri": "https://localhost:8080/"
    },
    "id": "vzqdI9xX_G_2",
    "executionInfo": {
     "status": "ok",
     "timestamp": 1680506466775,
     "user_tz": -120,
     "elapsed": 845,
     "user": {
      "displayName": "Ludovic Danlos",
      "userId": "07066482761641334028"
     }
    },
    "outputId": "dc633b6f-360b-4ac4-bf01-f912b3603901"
   }
  },
  {
   "cell_type": "code",
   "execution_count": 11,
   "outputs": [
    {
     "name": "stdout",
     "output_type": "stream",
     "text": [
      "ok\n"
     ]
    }
   ],
   "source": [
    "with open(\"../data/web.csv\", \"w\", newline='', encoding='utf-8') as csvfile:\n",
    "  writer = csv.writer(csvfile, delimiter=',')\n",
    "  writer.writerows(phrases_web)\n",
    "  print(\"ok\")"
   ],
   "metadata": {
    "colab": {
     "base_uri": "https://localhost:8080/",
     "height": 218
    },
    "id": "yxRvHz66_G_2",
    "executionInfo": {
     "status": "error",
     "timestamp": 1680506473942,
     "user_tz": -120,
     "elapsed": 178,
     "user": {
      "displayName": "Ludovic Danlos",
      "userId": "07066482761641334028"
     }
    },
    "outputId": "1b411325-3bc3-4b26-80ee-7bf413686699"
   }
  },
  {
   "cell_type": "markdown",
   "source": [
    "### Récupération des données et du modèle"
   ],
   "metadata": {
    "id": "wkxSMCxDADIw"
   }
  },
  {
   "cell_type": "code",
   "execution_count": 12,
   "outputs": [],
   "source": [
    "import pandas as pan\n",
    "from joblib import load"
   ],
   "metadata": {
    "id": "2Is5fYKV_G_3"
   }
  },
  {
   "cell_type": "code",
   "source": [
    "# Récupération des phrases scrapées\n",
    "dataframe_web = pan.read_csv(\"../data/web.csv\")\n",
    "dataframe_web"
   ],
   "metadata": {
    "id": "wGodh7EuDwbo"
   },
   "execution_count": 13,
   "outputs": [
    {
     "data": {
      "text/plain": "   BoE’s chief economist hints at May interest rate rise\n0                  Waging war on trade will be costly   \n1   Personal inflation calculator: what is your in...   \n2   US job openings fall to lowest level in almost...   \n3                           Opec isn’t scaring anyone   \n4             FirstFT: Trump prepares to face charges   \n5   How Spain has taken on the problem of precario...   \n6   China Inc keen on setting up shop in the US de...   \n7   Surprise cut by Opec+ fuels optimism for oil c...   \n8   Israel political crisis could cut 2.8% a year ...   \n9     High inflation boosts public finances, IMF says   \n10                 Europe’s aversion to anti-coercion   \n11                          FirstFT: Oil prices surge   \n12  China’s ports dominance undermines western aim...   \n13                  The financial turmoil is not over   \n14  How China is winning the race for Africa’s lit...   \n15                           Peace on Earth postponed   \n16  Iraqi authorities reach preliminary deal to re...   \n17  UK financial system ‘locking out’ growing numb...   \n18  Canada warns US against waging ‘carbon subsidy...   \n19                  Will the pace of US hiring slow?    \n20  Car loan cost surge pressures manufacturers to...   \n21                  Europe’s foothold slips in Africa   \n22  China escalates tech battle with review of US ...   \n23     Inflation falls ease pressure on central banks   ",
      "text/html": "<div>\n<style scoped>\n    .dataframe tbody tr th:only-of-type {\n        vertical-align: middle;\n    }\n\n    .dataframe tbody tr th {\n        vertical-align: top;\n    }\n\n    .dataframe thead th {\n        text-align: right;\n    }\n</style>\n<table border=\"1\" class=\"dataframe\">\n  <thead>\n    <tr style=\"text-align: right;\">\n      <th></th>\n      <th>BoE’s chief economist hints at May interest rate rise</th>\n    </tr>\n  </thead>\n  <tbody>\n    <tr>\n      <th>0</th>\n      <td>Waging war on trade will be costly</td>\n    </tr>\n    <tr>\n      <th>1</th>\n      <td>Personal inflation calculator: what is your in...</td>\n    </tr>\n    <tr>\n      <th>2</th>\n      <td>US job openings fall to lowest level in almost...</td>\n    </tr>\n    <tr>\n      <th>3</th>\n      <td>Opec isn’t scaring anyone</td>\n    </tr>\n    <tr>\n      <th>4</th>\n      <td>FirstFT: Trump prepares to face charges</td>\n    </tr>\n    <tr>\n      <th>5</th>\n      <td>How Spain has taken on the problem of precario...</td>\n    </tr>\n    <tr>\n      <th>6</th>\n      <td>China Inc keen on setting up shop in the US de...</td>\n    </tr>\n    <tr>\n      <th>7</th>\n      <td>Surprise cut by Opec+ fuels optimism for oil c...</td>\n    </tr>\n    <tr>\n      <th>8</th>\n      <td>Israel political crisis could cut 2.8% a year ...</td>\n    </tr>\n    <tr>\n      <th>9</th>\n      <td>High inflation boosts public finances, IMF says</td>\n    </tr>\n    <tr>\n      <th>10</th>\n      <td>Europe’s aversion to anti-coercion</td>\n    </tr>\n    <tr>\n      <th>11</th>\n      <td>FirstFT: Oil prices surge</td>\n    </tr>\n    <tr>\n      <th>12</th>\n      <td>China’s ports dominance undermines western aim...</td>\n    </tr>\n    <tr>\n      <th>13</th>\n      <td>The financial turmoil is not over</td>\n    </tr>\n    <tr>\n      <th>14</th>\n      <td>How China is winning the race for Africa’s lit...</td>\n    </tr>\n    <tr>\n      <th>15</th>\n      <td>Peace on Earth postponed</td>\n    </tr>\n    <tr>\n      <th>16</th>\n      <td>Iraqi authorities reach preliminary deal to re...</td>\n    </tr>\n    <tr>\n      <th>17</th>\n      <td>UK financial system ‘locking out’ growing numb...</td>\n    </tr>\n    <tr>\n      <th>18</th>\n      <td>Canada warns US against waging ‘carbon subsidy...</td>\n    </tr>\n    <tr>\n      <th>19</th>\n      <td>Will the pace of US hiring slow?</td>\n    </tr>\n    <tr>\n      <th>20</th>\n      <td>Car loan cost surge pressures manufacturers to...</td>\n    </tr>\n    <tr>\n      <th>21</th>\n      <td>Europe’s foothold slips in Africa</td>\n    </tr>\n    <tr>\n      <th>22</th>\n      <td>China escalates tech battle with review of US ...</td>\n    </tr>\n    <tr>\n      <th>23</th>\n      <td>Inflation falls ease pressure on central banks</td>\n    </tr>\n  </tbody>\n</table>\n</div>"
     },
     "execution_count": 13,
     "metadata": {},
     "output_type": "execute_result"
    }
   ]
  },
  {
   "cell_type": "code",
   "source": [
    "# Récupération du modèle de la Partie 1\n",
    "model = load(\"model.logiR\")"
   ],
   "metadata": {
    "id": "X-4G8FfqEHil"
   },
   "execution_count": 14,
   "outputs": []
  },
  {
   "cell_type": "markdown",
   "source": [
    "### Prédictions sur les données récupérées sur le web"
   ],
   "metadata": {
    "collapsed": false
   }
  },
  {
   "cell_type": "code",
   "execution_count": 15,
   "outputs": [
    {
     "data": {
      "text/plain": "LogisticRegression()",
      "text/html": "<style>#sk-container-id-1 {color: black;background-color: white;}#sk-container-id-1 pre{padding: 0;}#sk-container-id-1 div.sk-toggleable {background-color: white;}#sk-container-id-1 label.sk-toggleable__label {cursor: pointer;display: block;width: 100%;margin-bottom: 0;padding: 0.3em;box-sizing: border-box;text-align: center;}#sk-container-id-1 label.sk-toggleable__label-arrow:before {content: \"▸\";float: left;margin-right: 0.25em;color: #696969;}#sk-container-id-1 label.sk-toggleable__label-arrow:hover:before {color: black;}#sk-container-id-1 div.sk-estimator:hover label.sk-toggleable__label-arrow:before {color: black;}#sk-container-id-1 div.sk-toggleable__content {max-height: 0;max-width: 0;overflow: hidden;text-align: left;background-color: #f0f8ff;}#sk-container-id-1 div.sk-toggleable__content pre {margin: 0.2em;color: black;border-radius: 0.25em;background-color: #f0f8ff;}#sk-container-id-1 input.sk-toggleable__control:checked~div.sk-toggleable__content {max-height: 200px;max-width: 100%;overflow: auto;}#sk-container-id-1 input.sk-toggleable__control:checked~label.sk-toggleable__label-arrow:before {content: \"▾\";}#sk-container-id-1 div.sk-estimator input.sk-toggleable__control:checked~label.sk-toggleable__label {background-color: #d4ebff;}#sk-container-id-1 div.sk-label input.sk-toggleable__control:checked~label.sk-toggleable__label {background-color: #d4ebff;}#sk-container-id-1 input.sk-hidden--visually {border: 0;clip: rect(1px 1px 1px 1px);clip: rect(1px, 1px, 1px, 1px);height: 1px;margin: -1px;overflow: hidden;padding: 0;position: absolute;width: 1px;}#sk-container-id-1 div.sk-estimator {font-family: monospace;background-color: #f0f8ff;border: 1px dotted black;border-radius: 0.25em;box-sizing: border-box;margin-bottom: 0.5em;}#sk-container-id-1 div.sk-estimator:hover {background-color: #d4ebff;}#sk-container-id-1 div.sk-parallel-item::after {content: \"\";width: 100%;border-bottom: 1px solid gray;flex-grow: 1;}#sk-container-id-1 div.sk-label:hover label.sk-toggleable__label {background-color: #d4ebff;}#sk-container-id-1 div.sk-serial::before {content: \"\";position: absolute;border-left: 1px solid gray;box-sizing: border-box;top: 0;bottom: 0;left: 50%;z-index: 0;}#sk-container-id-1 div.sk-serial {display: flex;flex-direction: column;align-items: center;background-color: white;padding-right: 0.2em;padding-left: 0.2em;position: relative;}#sk-container-id-1 div.sk-item {position: relative;z-index: 1;}#sk-container-id-1 div.sk-parallel {display: flex;align-items: stretch;justify-content: center;background-color: white;position: relative;}#sk-container-id-1 div.sk-item::before, #sk-container-id-1 div.sk-parallel-item::before {content: \"\";position: absolute;border-left: 1px solid gray;box-sizing: border-box;top: 0;bottom: 0;left: 50%;z-index: -1;}#sk-container-id-1 div.sk-parallel-item {display: flex;flex-direction: column;z-index: 1;position: relative;background-color: white;}#sk-container-id-1 div.sk-parallel-item:first-child::after {align-self: flex-end;width: 50%;}#sk-container-id-1 div.sk-parallel-item:last-child::after {align-self: flex-start;width: 50%;}#sk-container-id-1 div.sk-parallel-item:only-child::after {width: 0;}#sk-container-id-1 div.sk-dashed-wrapped {border: 1px dashed gray;margin: 0 0.4em 0.5em 0.4em;box-sizing: border-box;padding-bottom: 0.4em;background-color: white;}#sk-container-id-1 div.sk-label label {font-family: monospace;font-weight: bold;display: inline-block;line-height: 1.2em;}#sk-container-id-1 div.sk-label-container {text-align: center;}#sk-container-id-1 div.sk-container {/* jupyter's `normalize.less` sets `[hidden] { display: none; }` but bootstrap.min.css set `[hidden] { display: none !important; }` so we also need the `!important` here to be able to override the default hidden behavior on the sphinx rendered scikit-learn.org. See: https://github.com/scikit-learn/scikit-learn/issues/21755 */display: inline-block !important;position: relative;}#sk-container-id-1 div.sk-text-repr-fallback {display: none;}</style><div id=\"sk-container-id-1\" class=\"sk-top-container\"><div class=\"sk-text-repr-fallback\"><pre>LogisticRegression()</pre><b>In a Jupyter environment, please rerun this cell to show the HTML representation or trust the notebook. <br />On GitHub, the HTML representation is unable to render, please try loading this page with nbviewer.org.</b></div><div class=\"sk-container\" hidden><div class=\"sk-item\"><div class=\"sk-estimator sk-toggleable\"><input class=\"sk-toggleable__control sk-hidden--visually\" id=\"sk-estimator-id-1\" type=\"checkbox\" checked><label for=\"sk-estimator-id-1\" class=\"sk-toggleable__label sk-toggleable__label-arrow\">LogisticRegression</label><div class=\"sk-toggleable__content\"><pre>LogisticRegression()</pre></div></div></div></div></div>"
     },
     "execution_count": 15,
     "metadata": {},
     "output_type": "execute_result"
    }
   ],
   "source": [
    "model"
   ],
   "metadata": {
    "collapsed": false
   }
  },
  {
   "cell_type": "code",
   "execution_count": 16,
   "outputs": [],
   "source": [
    "from sklearn.feature_extraction.text import TfidfVectorizer"
   ],
   "metadata": {
    "collapsed": false
   }
  },
  {
   "cell_type": "code",
   "execution_count": 18,
   "outputs": [],
   "source": [
    "tfidf = TfidfVectorizer()\n",
    "tfidf.fit(dataframe_web)\n",
    "matrice_phrases_web = tfidf.transform(dataframe_web)"
   ],
   "metadata": {
    "collapsed": false
   }
  },
  {
   "cell_type": "code",
   "execution_count": 19,
   "outputs": [
    {
     "ename": "ValueError",
     "evalue": "X has 9 features, but LogisticRegression is expecting 10054 features as input.",
     "output_type": "error",
     "traceback": [
      "\u001B[1;31m---------------------------------------------------------------------------\u001B[0m",
      "\u001B[1;31mValueError\u001B[0m                                Traceback (most recent call last)",
      "Cell \u001B[1;32mIn[19], line 1\u001B[0m\n\u001B[1;32m----> 1\u001B[0m predictions \u001B[38;5;241m=\u001B[39m \u001B[43mmodel\u001B[49m\u001B[38;5;241;43m.\u001B[39;49m\u001B[43mpredict\u001B[49m\u001B[43m(\u001B[49m\u001B[43mmatrice_phrases_web\u001B[49m\u001B[43m)\u001B[49m\n\u001B[0;32m      2\u001B[0m predictions\n",
      "File \u001B[1;32m~\\Documents\\Travail_IUT\\S3\\SAE_S3\\sae_s3\\src\\Codes_maquette1\\code_php\\MachineLearning\\venv\\Lib\\site-packages\\sklearn\\linear_model\\_base.py:419\u001B[0m, in \u001B[0;36mLinearClassifierMixin.predict\u001B[1;34m(self, X)\u001B[0m\n\u001B[0;32m    405\u001B[0m \u001B[38;5;250m\u001B[39m\u001B[38;5;124;03m\"\"\"\u001B[39;00m\n\u001B[0;32m    406\u001B[0m \u001B[38;5;124;03mPredict class labels for samples in X.\u001B[39;00m\n\u001B[0;32m    407\u001B[0m \n\u001B[1;32m   (...)\u001B[0m\n\u001B[0;32m    416\u001B[0m \u001B[38;5;124;03m    Vector containing the class labels for each sample.\u001B[39;00m\n\u001B[0;32m    417\u001B[0m \u001B[38;5;124;03m\"\"\"\u001B[39;00m\n\u001B[0;32m    418\u001B[0m xp, _ \u001B[38;5;241m=\u001B[39m get_namespace(X)\n\u001B[1;32m--> 419\u001B[0m scores \u001B[38;5;241m=\u001B[39m \u001B[38;5;28;43mself\u001B[39;49m\u001B[38;5;241;43m.\u001B[39;49m\u001B[43mdecision_function\u001B[49m\u001B[43m(\u001B[49m\u001B[43mX\u001B[49m\u001B[43m)\u001B[49m\n\u001B[0;32m    420\u001B[0m \u001B[38;5;28;01mif\u001B[39;00m \u001B[38;5;28mlen\u001B[39m(scores\u001B[38;5;241m.\u001B[39mshape) \u001B[38;5;241m==\u001B[39m \u001B[38;5;241m1\u001B[39m:\n\u001B[0;32m    421\u001B[0m     indices \u001B[38;5;241m=\u001B[39m xp\u001B[38;5;241m.\u001B[39mastype(scores \u001B[38;5;241m>\u001B[39m \u001B[38;5;241m0\u001B[39m, \u001B[38;5;28mint\u001B[39m)\n",
      "File \u001B[1;32m~\\Documents\\Travail_IUT\\S3\\SAE_S3\\sae_s3\\src\\Codes_maquette1\\code_php\\MachineLearning\\venv\\Lib\\site-packages\\sklearn\\linear_model\\_base.py:400\u001B[0m, in \u001B[0;36mLinearClassifierMixin.decision_function\u001B[1;34m(self, X)\u001B[0m\n\u001B[0;32m    397\u001B[0m check_is_fitted(\u001B[38;5;28mself\u001B[39m)\n\u001B[0;32m    398\u001B[0m xp, _ \u001B[38;5;241m=\u001B[39m get_namespace(X)\n\u001B[1;32m--> 400\u001B[0m X \u001B[38;5;241m=\u001B[39m \u001B[38;5;28;43mself\u001B[39;49m\u001B[38;5;241;43m.\u001B[39;49m\u001B[43m_validate_data\u001B[49m\u001B[43m(\u001B[49m\u001B[43mX\u001B[49m\u001B[43m,\u001B[49m\u001B[43m \u001B[49m\u001B[43maccept_sparse\u001B[49m\u001B[38;5;241;43m=\u001B[39;49m\u001B[38;5;124;43m\"\u001B[39;49m\u001B[38;5;124;43mcsr\u001B[39;49m\u001B[38;5;124;43m\"\u001B[39;49m\u001B[43m,\u001B[49m\u001B[43m \u001B[49m\u001B[43mreset\u001B[49m\u001B[38;5;241;43m=\u001B[39;49m\u001B[38;5;28;43;01mFalse\u001B[39;49;00m\u001B[43m)\u001B[49m\n\u001B[0;32m    401\u001B[0m scores \u001B[38;5;241m=\u001B[39m safe_sparse_dot(X, \u001B[38;5;28mself\u001B[39m\u001B[38;5;241m.\u001B[39mcoef_\u001B[38;5;241m.\u001B[39mT, dense_output\u001B[38;5;241m=\u001B[39m\u001B[38;5;28;01mTrue\u001B[39;00m) \u001B[38;5;241m+\u001B[39m \u001B[38;5;28mself\u001B[39m\u001B[38;5;241m.\u001B[39mintercept_\n\u001B[0;32m    402\u001B[0m \u001B[38;5;28;01mreturn\u001B[39;00m xp\u001B[38;5;241m.\u001B[39mreshape(scores, \u001B[38;5;241m-\u001B[39m\u001B[38;5;241m1\u001B[39m) \u001B[38;5;28;01mif\u001B[39;00m scores\u001B[38;5;241m.\u001B[39mshape[\u001B[38;5;241m1\u001B[39m] \u001B[38;5;241m==\u001B[39m \u001B[38;5;241m1\u001B[39m \u001B[38;5;28;01melse\u001B[39;00m scores\n",
      "File \u001B[1;32m~\\Documents\\Travail_IUT\\S3\\SAE_S3\\sae_s3\\src\\Codes_maquette1\\code_php\\MachineLearning\\venv\\Lib\\site-packages\\sklearn\\base.py:588\u001B[0m, in \u001B[0;36mBaseEstimator._validate_data\u001B[1;34m(self, X, y, reset, validate_separately, **check_params)\u001B[0m\n\u001B[0;32m    585\u001B[0m     out \u001B[38;5;241m=\u001B[39m X, y\n\u001B[0;32m    587\u001B[0m \u001B[38;5;28;01mif\u001B[39;00m \u001B[38;5;129;01mnot\u001B[39;00m no_val_X \u001B[38;5;129;01mand\u001B[39;00m check_params\u001B[38;5;241m.\u001B[39mget(\u001B[38;5;124m\"\u001B[39m\u001B[38;5;124mensure_2d\u001B[39m\u001B[38;5;124m\"\u001B[39m, \u001B[38;5;28;01mTrue\u001B[39;00m):\n\u001B[1;32m--> 588\u001B[0m     \u001B[38;5;28;43mself\u001B[39;49m\u001B[38;5;241;43m.\u001B[39;49m\u001B[43m_check_n_features\u001B[49m\u001B[43m(\u001B[49m\u001B[43mX\u001B[49m\u001B[43m,\u001B[49m\u001B[43m \u001B[49m\u001B[43mreset\u001B[49m\u001B[38;5;241;43m=\u001B[39;49m\u001B[43mreset\u001B[49m\u001B[43m)\u001B[49m\n\u001B[0;32m    590\u001B[0m \u001B[38;5;28;01mreturn\u001B[39;00m out\n",
      "File \u001B[1;32m~\\Documents\\Travail_IUT\\S3\\SAE_S3\\sae_s3\\src\\Codes_maquette1\\code_php\\MachineLearning\\venv\\Lib\\site-packages\\sklearn\\base.py:389\u001B[0m, in \u001B[0;36mBaseEstimator._check_n_features\u001B[1;34m(self, X, reset)\u001B[0m\n\u001B[0;32m    386\u001B[0m     \u001B[38;5;28;01mreturn\u001B[39;00m\n\u001B[0;32m    388\u001B[0m \u001B[38;5;28;01mif\u001B[39;00m n_features \u001B[38;5;241m!=\u001B[39m \u001B[38;5;28mself\u001B[39m\u001B[38;5;241m.\u001B[39mn_features_in_:\n\u001B[1;32m--> 389\u001B[0m     \u001B[38;5;28;01mraise\u001B[39;00m \u001B[38;5;167;01mValueError\u001B[39;00m(\n\u001B[0;32m    390\u001B[0m         \u001B[38;5;124mf\u001B[39m\u001B[38;5;124m\"\u001B[39m\u001B[38;5;124mX has \u001B[39m\u001B[38;5;132;01m{\u001B[39;00mn_features\u001B[38;5;132;01m}\u001B[39;00m\u001B[38;5;124m features, but \u001B[39m\u001B[38;5;132;01m{\u001B[39;00m\u001B[38;5;28mself\u001B[39m\u001B[38;5;241m.\u001B[39m\u001B[38;5;18m__class__\u001B[39m\u001B[38;5;241m.\u001B[39m\u001B[38;5;18m__name__\u001B[39m\u001B[38;5;132;01m}\u001B[39;00m\u001B[38;5;124m \u001B[39m\u001B[38;5;124m\"\u001B[39m\n\u001B[0;32m    391\u001B[0m         \u001B[38;5;124mf\u001B[39m\u001B[38;5;124m\"\u001B[39m\u001B[38;5;124mis expecting \u001B[39m\u001B[38;5;132;01m{\u001B[39;00m\u001B[38;5;28mself\u001B[39m\u001B[38;5;241m.\u001B[39mn_features_in_\u001B[38;5;132;01m}\u001B[39;00m\u001B[38;5;124m features as input.\u001B[39m\u001B[38;5;124m\"\u001B[39m\n\u001B[0;32m    392\u001B[0m     )\n",
      "\u001B[1;31mValueError\u001B[0m: X has 9 features, but LogisticRegression is expecting 10054 features as input."
     ]
    }
   ],
   "source": [
    "predictions = model.predict(matrice_phrases_web)\n",
    "predictions"
   ],
   "metadata": {
    "collapsed": false
   }
  },
  {
   "cell_type": "code",
   "execution_count": null,
   "outputs": [],
   "source": [],
   "metadata": {
    "collapsed": false
   }
  }
 ],
 "metadata": {
  "kernelspec": {
   "display_name": "Python 3",
   "language": "python",
   "name": "python3"
  },
  "language_info": {
   "codemirror_mode": {
    "name": "ipython",
    "version": 2
   },
   "file_extension": ".py",
   "mimetype": "text/x-python",
   "name": "python",
   "nbconvert_exporter": "python",
   "pygments_lexer": "ipython2",
   "version": "2.7.6"
  },
  "colab": {
   "provenance": []
  }
 },
 "nbformat": 4,
 "nbformat_minor": 0
}
