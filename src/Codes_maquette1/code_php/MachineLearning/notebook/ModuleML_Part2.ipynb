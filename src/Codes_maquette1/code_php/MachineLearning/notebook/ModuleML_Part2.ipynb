{
 "cells": [
  {
   "cell_type": "markdown",
   "source": [
    "# **Module de Machine Learning**\n",
    "\n",
    "# **Partie 2  : Web Scraping**"
   ],
   "metadata": {
    "collapsed": false,
    "id": "y_V2rTZ9b7CA"
   }
  },
  {
   "cell_type": "markdown",
   "source": [
    "### Librairies"
   ],
   "metadata": {
    "collapsed": false,
    "id": "7HEhQ4Xpb7CH"
   }
  },
  {
   "cell_type": "code",
   "execution_count": 13,
   "outputs": [],
   "source": [
    "from bs4 import BeautifulSoup\n",
    "import requests\n",
    "import csv"
   ],
   "metadata": {
    "id": "9ZTB-s8mb7CI",
    "executionInfo": {
     "status": "ok",
     "timestamp": 1680161732280,
     "user_tz": -120,
     "elapsed": 4,
     "user": {
      "displayName": "Ludovic Danlos",
      "userId": "07066482761641334028"
     }
    }
   }
  },
  {
   "cell_type": "markdown",
   "source": [
    "### Script de récupération de données financières (Financial Times)"
   ],
   "metadata": {
    "collapsed": false,
    "id": "d7su5zclb7CJ"
   }
  },
  {
   "cell_type": "markdown",
   "source": [
    "#### Récupération d'une page web"
   ],
   "metadata": {
    "collapsed": false,
    "id": "CX8kTAhOb7CK"
   }
  },
  {
   "cell_type": "code",
   "execution_count": 2,
   "outputs": [
    {
     "data": {
      "text/plain": "<Response [200]>"
     },
     "execution_count": 2,
     "metadata": {},
     "output_type": "execute_result"
    }
   ],
   "source": [
    "response = requests.get(\"https://www.ft.com/global-economy\")\n",
    "\n",
    "response\n",
    "# Si response renvoie <Response 200> la requête à bien fonctionner et la variable response contient la page web correspondant à l'url.\n",
    "# En revanche <Response 404> indique une erreur."
   ],
   "metadata": {
    "colab": {
     "base_uri": "https://localhost:8080/"
    },
    "id": "5jYf0ZTIb7CL",
    "executionInfo": {
     "status": "ok",
     "timestamp": 1680162281172,
     "user_tz": -120,
     "elapsed": 344,
     "user": {
      "displayName": "Ludovic Danlos",
      "userId": "07066482761641334028"
     }
    },
    "outputId": "73b6cf94-0a6d-4217-e26d-c1032ee61e51"
   }
  },
  {
   "cell_type": "markdown",
   "source": [
    "#### Parsing du contenu de la page web"
   ],
   "metadata": {
    "collapsed": false,
    "id": "Zf3Y7YdTb7CM"
   }
  },
  {
   "cell_type": "code",
   "execution_count": 3,
   "outputs": [
    {
     "data": {
      "text/plain": "<title>Global Economy | Financial Times</title>"
     },
     "execution_count": 3,
     "metadata": {},
     "output_type": "execute_result"
    }
   ],
   "source": [
    "soup = BeautifulSoup(response.content, 'html.parser')\n",
    "\n",
    "soup.title\n",
    "# Normalement, on devrait avoir récupérer les données du site du Financial Times"
   ],
   "metadata": {
    "colab": {
     "base_uri": "https://localhost:8080/"
    },
    "id": "txaOOF3qb7CN",
    "executionInfo": {
     "status": "ok",
     "timestamp": 1680162283495,
     "user_tz": -120,
     "elapsed": 332,
     "user": {
      "displayName": "Ludovic Danlos",
      "userId": "07066482761641334028"
     }
    },
    "outputId": "625d4204-011b-4ebd-b867-e7e0384cfa37"
   }
  },
  {
   "cell_type": "markdown",
   "source": [
    "### Isolation des données qui nous intéressent"
   ],
   "metadata": {
    "collapsed": false,
    "id": "O9WOt0IIb7CO"
   }
  },
  {
   "cell_type": "code",
   "execution_count": 4,
   "outputs": [
    {
     "data": {
      "text/plain": "[<a class=\"js-teaser-heading-link\" data-trackable=\"heading-link\" href=\"/content/93a70057-77fe-49d5-a71b-2719c486b3d1\">UK financial system ‘locking out’ growing numbers </a>,\n <a class=\"js-teaser-heading-link\" data-trackable=\"heading-link\" href=\"/content/4b102da2-5f3e-4046-8d12-ab9e3ca89332\">Canada warns US against waging ‘carbon subsidy war’</a>,\n <a class=\"js-teaser-heading-link\" data-trackable=\"heading-link\" href=\"/content/50c99e54-0526-421a-be39-97b47f714843\">Will the pace of US hiring slow? </a>,\n <a class=\"js-teaser-heading-link\" data-trackable=\"heading-link\" href=\"/content/0813cc1c-61a6-414e-bf75-3c856565ed62\">Car loan cost surge pressures manufacturers to reinstate discounts</a>,\n <a class=\"js-teaser-heading-link\" data-trackable=\"heading-link\" href=\"/content/fbf04b59-23ee-463d-a0b3-d7e358265cb1\">Europe’s foothold slips in Africa</a>,\n <a class=\"js-teaser-heading-link\" data-trackable=\"heading-link\" href=\"/content/79ddb4bb-cbfc-4e4f-bca8-ef52ea0157c1\">China escalates tech battle with review of US chipmaker Micron </a>,\n <a class=\"js-teaser-heading-link\" data-trackable=\"heading-link\" href=\"/content/4a769cb2-6b57-4a21-92e1-29e36e446285\">Inflation falls ease pressure on central banks</a>,\n <a class=\"js-teaser-heading-link\" data-trackable=\"heading-link\" href=\"/content/86deede4-61f2-4562-8a98-9dac12ecac2f\">Turkish banks: unorthodox approach to inflation fighting will take a toll</a>,\n <a class=\"js-teaser-heading-link\" data-trackable=\"heading-link\" href=\"/content/4d519cc7-5959-4749-a892-dc8bd5cf1014\">We are living through a trillion-dollar rebalancing</a>,\n <a class=\"js-teaser-heading-link\" data-trackable=\"heading-link\" href=\"/content/29f6200c-f7f7-420e-b57f-081f03595877\">UAE cites ‘sanctions risks’ as it cancels licence for Russia’s MTS Bank </a>,\n <a class=\"js-teaser-heading-link\" data-trackable=\"heading-link\" href=\"/content/b3d55007-f5fe-4095-99f3-686376be7e42\">UK government threatened with legal action over Australia trade deal</a>,\n <a class=\"js-teaser-heading-link\" data-trackable=\"heading-link\" href=\"/content/a0c3857a-bb27-454f-b386-edff4fb8fee8\">FirstFT: The historic decision to indict a former president</a>,\n <a class=\"js-teaser-heading-link\" data-trackable=\"heading-link\" href=\"/content/088d3368-bb8b-4ff3-9df7-a7680d4d81b2\">Global inflation tracker: see how your country compares on rising prices</a>,\n <a class=\"js-teaser-heading-link\" data-trackable=\"heading-link\" href=\"/content/32d283b9-3d05-430b-b00f-3fec9fe00dc9\">Eurozone inflation falls sharply to 6.9% as energy costs recede</a>,\n <a class=\"js-teaser-heading-link\" data-trackable=\"heading-link\" href=\"/content/768966d0-1082-4db4-b1bc-cca0c1982f9e\">Japan to restrict semiconductor equipment exports as China chip war intensifies</a>,\n <a class=\"js-teaser-heading-link\" data-trackable=\"heading-link\" href=\"/content/9e22e2af-ee96-47d2-ba11-8074c9c1115d\">Why Beijing thinks the EU’s China rhetoric is written in Washington</a>,\n <a class=\"js-teaser-heading-link\" data-trackable=\"heading-link\" href=\"/content/0f0b558b-3ca8-4156-82c8-e1825539ee20\">‘Dare to fight’: Xi unveils China’s new world order</a>,\n <a class=\"js-teaser-heading-link\" data-trackable=\"heading-link\" href=\"/content/731e38d9-821d-4a6d-b9fd-22a5c6c0c0fd\">‘Greedflation’: profit-boosting mark-ups attract an inevitable backlash</a>,\n <a class=\"js-teaser-heading-link\" data-trackable=\"heading-link\" href=\"/content/814def52-0be6-48a1-91bc-2e99cdd5c420\">Quarter of emerging countries lose effective access to debt markets</a>,\n <a class=\"js-teaser-heading-link\" data-trackable=\"heading-link\" href=\"/content/93015aab-4b3d-43c7-be9b-ad4af4fc721d\">US-China decoupling is hurting innovation, World Bank warns</a>,\n <a class=\"js-teaser-heading-link\" data-trackable=\"heading-link\" href=\"/content/7b503583-b1d6-4763-a519-df46bdb3d924\">UK strikes agreement to join Asia-Pacific trade bloc</a>,\n <a class=\"js-teaser-heading-link\" data-trackable=\"heading-link\" href=\"/content/30b64278-4d01-4364-a831-7002e533b303\">UK minimum wage to increase 9.7% in ‘real-terms pay boost’</a>,\n <a class=\"js-teaser-heading-link\" data-trackable=\"heading-link\" href=\"/content/2d7f355a-4f43-4e12-bd0b-0cac5a99aeac\">China’s envoy warns EU of ‘peril’ from following US on trade curbs </a>,\n <a class=\"js-teaser-heading-link\" data-trackable=\"heading-link\" href=\"/content/6b713673-2621-45be-9943-8adfe1c65458\">Fed’s Susan Collins signals she expects one more quarter-point rate increase</a>,\n <a class=\"js-teaser-heading-link\" data-trackable=\"heading-link\" href=\"/content/f8f3b2cd-6690-4f26-b81e-e972751c8799\">Prepare for a multipolar currency world</a>,\n <a class=\"js-teaser-heading-link\" data-trackable=\"heading-link\" href=\"https://twitter.com/fteconomics\">Follow us on Twitter @FTEconomics</a>,\n <a class=\"js-teaser-heading-link\" data-trackable=\"heading-link\" href=\"https://ep.ft.com/newsletters/subscribe?newsletterIds=56388465e4b0c3d64132e189\">Sign up for the Martin Sandbu’s Free Lunch newsletter</a>]"
     },
     "execution_count": 4,
     "metadata": {},
     "output_type": "execute_result"
    }
   ],
   "source": [
    "tag_a = soup.find_all(\"a\", class_=\"js-teaser-heading-link\")\n",
    "tag_a"
   ],
   "metadata": {
    "colab": {
     "base_uri": "https://localhost:8080/"
    },
    "id": "V-Fggokvb7CO",
    "executionInfo": {
     "status": "ok",
     "timestamp": 1680162744984,
     "user_tz": -120,
     "elapsed": 615,
     "user": {
      "displayName": "Ludovic Danlos",
      "userId": "07066482761641334028"
     }
    },
    "outputId": "69681b94-0207-4ed8-beea-da9f18c245cc"
   }
  },
  {
   "cell_type": "code",
   "source": [
    "for i in range(len(tag_a) - 2):\n",
    "  print(tag_a[i].contents[0])\n",
    "# On retire 2 car on ne veut pas récupérer les 2 dernières lignes qui ne \n",
    "# contiennent pas de phrases à caractère financier"
   ],
   "metadata": {
    "colab": {
     "base_uri": "https://localhost:8080/"
    },
    "id": "arSEmsToi7iV",
    "executionInfo": {
     "status": "ok",
     "timestamp": 1680163778949,
     "user_tz": -120,
     "elapsed": 1312,
     "user": {
      "displayName": "Ludovic Danlos",
      "userId": "07066482761641334028"
     }
    },
    "outputId": "6c5360f0-e873-4691-8785-ac0fd1678ad0"
   },
   "execution_count": 6,
   "outputs": [
    {
     "name": "stdout",
     "output_type": "stream",
     "text": [
      "UK financial system ‘locking out’ growing numbers \n",
      "Canada warns US against waging ‘carbon subsidy war’\n",
      "Will the pace of US hiring slow? \n",
      "Car loan cost surge pressures manufacturers to reinstate discounts\n",
      "Europe’s foothold slips in Africa\n",
      "China escalates tech battle with review of US chipmaker Micron \n",
      "Inflation falls ease pressure on central banks\n",
      "Turkish banks: unorthodox approach to inflation fighting will take a toll\n",
      "We are living through a trillion-dollar rebalancing\n",
      "UAE cites ‘sanctions risks’ as it cancels licence for Russia’s MTS Bank \n",
      "UK government threatened with legal action over Australia trade deal\n",
      "FirstFT: The historic decision to indict a former president\n",
      "Global inflation tracker: see how your country compares on rising prices\n",
      "Eurozone inflation falls sharply to 6.9% as energy costs recede\n",
      "Japan to restrict semiconductor equipment exports as China chip war intensifies\n",
      "Why Beijing thinks the EU’s China rhetoric is written in Washington\n",
      "‘Dare to fight’: Xi unveils China’s new world order\n",
      "‘Greedflation’: profit-boosting mark-ups attract an inevitable backlash\n",
      "Quarter of emerging countries lose effective access to debt markets\n",
      "US-China decoupling is hurting innovation, World Bank warns\n",
      "UK strikes agreement to join Asia-Pacific trade bloc\n",
      "UK minimum wage to increase 9.7% in ‘real-terms pay boost’\n",
      "China’s envoy warns EU of ‘peril’ from following US on trade curbs \n",
      "Fed’s Susan Collins signals she expects one more quarter-point rate increase\n",
      "Prepare for a multipolar currency world\n"
     ]
    }
   ]
  },
  {
   "cell_type": "code",
   "execution_count": 8,
   "outputs": [
    {
     "name": "stdout",
     "output_type": "stream",
     "text": [
      "ok\n"
     ]
    }
   ],
   "source": [
    "phrases_web = []\n",
    "for j in range(len(tag_a) - 2):\n",
    "  phrases_web.append(tag_a[j].contents[0])\n",
    "print(\"ok\")\n",
    "# Ici on rassemble les phrases qu'on vient d'itenfier dans un tableau"
   ],
   "metadata": {
    "collapsed": false
   }
  },
  {
   "cell_type": "code",
   "execution_count": 9,
   "outputs": [
    {
     "name": "stdout",
     "output_type": "stream",
     "text": [
      "UK financial system ‘locking out’ growing numbers \n",
      "Canada warns US against waging ‘carbon subsidy war’\n",
      "Will the pace of US hiring slow? \n",
      "Car loan cost surge pressures manufacturers to reinstate discounts\n",
      "Europe’s foothold slips in Africa\n",
      "China escalates tech battle with review of US chipmaker Micron \n",
      "Inflation falls ease pressure on central banks\n",
      "Turkish banks: unorthodox approach to inflation fighting will take a toll\n",
      "We are living through a trillion-dollar rebalancing\n",
      "UAE cites ‘sanctions risks’ as it cancels licence for Russia’s MTS Bank \n",
      "UK government threatened with legal action over Australia trade deal\n",
      "FirstFT: The historic decision to indict a former president\n",
      "Global inflation tracker: see how your country compares on rising prices\n",
      "Eurozone inflation falls sharply to 6.9% as energy costs recede\n",
      "Japan to restrict semiconductor equipment exports as China chip war intensifies\n",
      "Why Beijing thinks the EU’s China rhetoric is written in Washington\n",
      "‘Dare to fight’: Xi unveils China’s new world order\n",
      "‘Greedflation’: profit-boosting mark-ups attract an inevitable backlash\n",
      "Quarter of emerging countries lose effective access to debt markets\n",
      "US-China decoupling is hurting innovation, World Bank warns\n",
      "UK strikes agreement to join Asia-Pacific trade bloc\n",
      "UK minimum wage to increase 9.7% in ‘real-terms pay boost’\n",
      "China’s envoy warns EU of ‘peril’ from following US on trade curbs \n",
      "Fed’s Susan Collins signals she expects one more quarter-point rate increase\n",
      "Prepare for a multipolar currency world\n"
     ]
    }
   ],
   "source": [
    "for k in range(len(phrases_web)):\n",
    "  print(phrases_web[k])\n",
    "# On vérifie que nos phrases sont bien dans le tableau"
   ],
   "metadata": {
    "collapsed": false
   }
  },
  {
   "cell_type": "markdown",
   "source": [
    "### Ecriture des données dans un fichier csv"
   ],
   "metadata": {
    "collapsed": false
   }
  },
  {
   "cell_type": "code",
   "execution_count": 10,
   "outputs": [
    {
     "data": {
      "text/plain": "bs4.element.NavigableString"
     },
     "execution_count": 10,
     "metadata": {},
     "output_type": "execute_result"
    }
   ],
   "source": [
    "type(phrases_web[0])\n",
    "# On vérifie le type de nos phrases"
   ],
   "metadata": {
    "collapsed": false
   }
  },
  {
   "cell_type": "code",
   "execution_count": 11,
   "outputs": [
    {
     "data": {
      "text/plain": "str"
     },
     "execution_count": 11,
     "metadata": {},
     "output_type": "execute_result"
    }
   ],
   "source": [
    "for l in range(len(phrases_web)):\n",
    "  phrases_web[l] = str(phrases_web[l])\n",
    "type(phrases_web[0])\n",
    "# Le type de nos phrases est un type propre à la librairie BeautifulSoup.\n",
    "# On convertit les phrases en objet de type string pour éviter d'éventuels problème lors de l'écriture en csv."
   ],
   "metadata": {
    "collapsed": false
   }
  },
  {
   "cell_type": "code",
   "execution_count": 17,
   "outputs": [
    {
     "name": "stdout",
     "output_type": "stream",
     "text": [
      "ok\n"
     ]
    }
   ],
   "source": [
    "with open(\"../data/web.csv\", \"w\", newline='') as csvfile:\n",
    "  writer = csv.writer(csvfile)\n",
    "  writer.writerows(phrases_web)\n",
    "  # for element in phrases_web:\n",
    "  #   writer.writerow(element)\n",
    "  print(\"ok\")"
   ],
   "metadata": {
    "collapsed": false
   }
  },
  {
   "cell_type": "code",
   "execution_count": null,
   "outputs": [],
   "source": [],
   "metadata": {
    "collapsed": false
   }
  }
 ],
 "metadata": {
  "kernelspec": {
   "display_name": "Python 3",
   "language": "python",
   "name": "python3"
  },
  "language_info": {
   "codemirror_mode": {
    "name": "ipython",
    "version": 2
   },
   "file_extension": ".py",
   "mimetype": "text/x-python",
   "name": "python",
   "nbconvert_exporter": "python",
   "pygments_lexer": "ipython2",
   "version": "2.7.6"
  },
  "colab": {
   "provenance": []
  }
 },
 "nbformat": 4,
 "nbformat_minor": 0
}
