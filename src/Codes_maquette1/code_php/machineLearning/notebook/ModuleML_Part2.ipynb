{
 "cells": [
  {
   "cell_type": "markdown",
   "source": [
    "# **Module de Machine Learning**\n",
    "\n",
    "# **Partie 2  : Web Scraping**"
   ],
   "metadata": {
    "collapsed": false,
    "id": "y_V2rTZ9b7CA"
   }
  },
  {
   "cell_type": "markdown",
   "source": [
    "### Librairies"
   ],
   "metadata": {
    "collapsed": false,
    "id": "7HEhQ4Xpb7CH"
   }
  },
  {
   "cell_type": "code",
   "execution_count": 1,
   "outputs": [],
   "source": [
    "from bs4 import BeautifulSoup\n",
    "import requests\n",
    "import csv"
   ],
   "metadata": {
    "id": "9ZTB-s8mb7CI",
    "executionInfo": {
     "status": "ok",
     "timestamp": 1680506406012,
     "user_tz": -120,
     "elapsed": 687,
     "user": {
      "displayName": "Ludovic Danlos",
      "userId": "07066482761641334028"
     }
    }
   }
  },
  {
   "cell_type": "markdown",
   "source": [
    "### Script de récupération de données financières (Financial Times)"
   ],
   "metadata": {
    "collapsed": false,
    "id": "d7su5zclb7CJ"
   }
  },
  {
   "cell_type": "markdown",
   "source": [
    "#### Récupération d'une page web"
   ],
   "metadata": {
    "collapsed": false,
    "id": "CX8kTAhOb7CK"
   }
  },
  {
   "cell_type": "code",
   "execution_count": 2,
   "outputs": [
    {
     "data": {
      "text/plain": "<Response [200]>"
     },
     "execution_count": 2,
     "metadata": {},
     "output_type": "execute_result"
    }
   ],
   "source": [
    "response = requests.get(\"https://www.ft.com/global-economy\")\n",
    "\n",
    "response\n",
    "# Si response renvoie <Response 200> la requête à bien fonctionner et la variable response contient la page web correspondant à l'url.\n",
    "# En revanche <Response 404> indique une erreur."
   ],
   "metadata": {
    "colab": {
     "base_uri": "https://localhost:8080/"
    },
    "id": "5jYf0ZTIb7CL",
    "executionInfo": {
     "status": "ok",
     "timestamp": 1680506410317,
     "user_tz": -120,
     "elapsed": 648,
     "user": {
      "displayName": "Ludovic Danlos",
      "userId": "07066482761641334028"
     }
    },
    "outputId": "949c972d-cf59-49f5-9c1b-e8029c0fa11f"
   }
  },
  {
   "cell_type": "markdown",
   "source": [
    "#### Parsing du contenu de la page web"
   ],
   "metadata": {
    "collapsed": false,
    "id": "Zf3Y7YdTb7CM"
   }
  },
  {
   "cell_type": "code",
   "execution_count": 3,
   "outputs": [
    {
     "data": {
      "text/plain": "<title>Global Economy | Financial Times</title>"
     },
     "execution_count": 3,
     "metadata": {},
     "output_type": "execute_result"
    }
   ],
   "source": [
    "soup = BeautifulSoup(response.content, 'html.parser')\n",
    "\n",
    "soup.title\n",
    "# Normalement, on devrait avoir récupérer les données du site du Financial Times"
   ],
   "metadata": {
    "colab": {
     "base_uri": "https://localhost:8080/"
    },
    "id": "txaOOF3qb7CN",
    "executionInfo": {
     "status": "ok",
     "timestamp": 1680506412738,
     "user_tz": -120,
     "elapsed": 306,
     "user": {
      "displayName": "Ludovic Danlos",
      "userId": "07066482761641334028"
     }
    },
    "outputId": "40f0acb4-5f22-45be-82df-af1c4922b82f"
   }
  },
  {
   "cell_type": "markdown",
   "source": [
    "### Isolation des données qui nous intéressent"
   ],
   "metadata": {
    "collapsed": false,
    "id": "O9WOt0IIb7CO"
   }
  },
  {
   "cell_type": "code",
   "execution_count": 4,
   "outputs": [
    {
     "data": {
      "text/plain": "[<a class=\"js-teaser-heading-link\" data-trackable=\"heading-link\" href=\"/content/3641177a-d0bc-40ce-845c-0eea4d608f41\">FirstFT: Options trading surges as turmoil looms</a>,\n <a class=\"js-teaser-heading-link\" data-trackable=\"heading-link\" href=\"/content/9e61dfe9-cf18-4ad1-8837-864925069fa6\">Global economy fends off geopolitical and banking threats</a>,\n <a class=\"js-teaser-heading-link\" data-trackable=\"heading-link\" href=\"/content/cee3a43a-c549-4856-8c7b-d8152deb61ac\">Milestones and meetings</a>,\n <a class=\"js-teaser-heading-link\" data-trackable=\"heading-link\" href=\"/content/46d56c75-57d5-44ef-812c-5e58865f0179\">If tech is driving the ‘productivity bandwagon’, it’s time to hit the brakes</a>,\n <a class=\"js-teaser-heading-link\" data-trackable=\"heading-link\" href=\"/content/8af4ed19-4cf5-40d6-9e94-6e0abb591556\">Ambition is needed to rebuild trust in multilateralism</a>,\n <a class=\"js-teaser-heading-link\" data-trackable=\"heading-link\" href=\"/content/c744d5d2-72b2-43be-a105-2f5d364da281\">Will US inflation continue to slow?</a>,\n <a class=\"js-teaser-heading-link\" data-trackable=\"heading-link\" href=\"/content/1e234fa5-83b2-43ec-92db-79b82eca67f4\">US data raises hopes Fed’s efforts to curb inflation are working</a>,\n <a class=\"js-teaser-heading-link\" data-trackable=\"heading-link\" href=\"/content/2e38f02f-feff-47b4-8d3e-40d7595242ef\">US jobs growth slowed in March as Fed put brakes on economy</a>,\n <a class=\"js-teaser-heading-link\" data-trackable=\"heading-link\" href=\"/content/08881613-80d3-4e82-bff3-d4811b85ad27\">Russia’s foreign minister threatens to scrap Ukraine grain deal</a>,\n <a class=\"js-teaser-heading-link\" data-trackable=\"heading-link\" href=\"/content/c0cf2e17-cc3c-4ff3-9f07-f8a66db2c0c2\">FirstFT: US jobs market shows signs of cooling</a>,\n <a class=\"js-teaser-heading-link\" data-trackable=\"heading-link\" href=\"/content/cdd1ddaf-4e10-440d-b234-2782a942531c\">The battle for UK businesses to hold down customer price rises</a>,\n <a class=\"js-teaser-heading-link\" data-trackable=\"heading-link\" href=\"/content/49870c62-4be2-453b-a93d-fe8cb59bdd35\">South Korean biotech companies seek to diversify from China as US tensions rise</a>,\n <a class=\"js-teaser-heading-link\" data-trackable=\"heading-link\" href=\"/content/02c5ac35-a54b-4111-9187-0c3ce02441b4\">Germany seeks to limit Brussels’ scope on national debt reduction plans</a>,\n <a class=\"js-teaser-heading-link\" data-trackable=\"heading-link\" href=\"/content/309d5a00-879d-4cd8-a0d7-41563f1cb16b\">Global economy set for years of weak growth, IMF chief Georgieva warns</a>,\n <a class=\"js-teaser-heading-link\" data-trackable=\"heading-link\" href=\"/content/6b77bdb3-49dd-4a35-83f1-689647e52aca\">FirstFT: Hedge funds cash in on banking chaos </a>,\n <a class=\"js-teaser-heading-link\" data-trackable=\"heading-link\" href=\"/content/5b5a1e87-5631-4059-a117-2a06d1720ebb\">When do banking failures matter for the economy?</a>,\n <a class=\"js-teaser-heading-link\" data-trackable=\"heading-link\" href=\"/content/005e7dce-9520-4548-a0d9-303943f4a820\">India’s central bank holds interest rates amid global banking turbulence</a>,\n <a class=\"js-teaser-heading-link\" data-trackable=\"heading-link\" href=\"/content/42bf47db-fee1-43df-90de-df6bcba88794\">Why defrosting the EU-China investment deal will be difficult</a>,\n <a class=\"js-teaser-heading-link\" data-trackable=\"heading-link\" href=\"/content/b0865633-82f2-4a49-ae0e-3bc0d1087a31\">What I learnt from three banking crises</a>,\n <a class=\"js-teaser-heading-link\" data-trackable=\"heading-link\" href=\"/reports/ft-asia-pacific-companies\">FT High-Growth Companies Asia-Pacific</a>,\n <a class=\"js-teaser-heading-link\" data-trackable=\"heading-link\" href=\"/content/6654482d-35ef-401f-b7af-562e40422037\">India aims to capitalise on China-west tensions</a>,\n <a class=\"js-teaser-heading-link\" data-trackable=\"heading-link\" href=\"/content/37a0110a-4b5e-4d7d-8a1c-652f57dde258\">Logistics turns to tech to meet new demand</a>,\n <a class=\"js-teaser-heading-link\" data-trackable=\"heading-link\" href=\"/content/c31642e9-3b75-48f9-be47-3a930928e9f2\">UK government publishes plans for post-Brexit border checks  </a>,\n <a class=\"js-teaser-heading-link\" data-trackable=\"heading-link\" href=\"/content/cb7e919a-f035-4e41-ad4a-6f066a497135\">Geopolitical tensions threaten outlook for global economy</a>,\n <a class=\"js-teaser-heading-link\" data-trackable=\"heading-link\" href=\"/content/b2f66486-80e5-425e-86e7-fe432da8aeec\">‘Friendshoring’ is a risk to growth and financial stability, warns IMF </a>,\n <a class=\"js-teaser-heading-link\" data-trackable=\"heading-link\" href=\"https://twitter.com/fteconomics\">Follow us on Twitter @FTEconomics</a>,\n <a class=\"js-teaser-heading-link\" data-trackable=\"heading-link\" href=\"https://ep.ft.com/newsletters/subscribe?newsletterIds=56388465e4b0c3d64132e189\">Sign up for the Martin Sandbu’s Free Lunch newsletter</a>]"
     },
     "execution_count": 4,
     "metadata": {},
     "output_type": "execute_result"
    }
   ],
   "source": [
    "tag_a = soup.find_all(\"a\", class_=\"js-teaser-heading-link\")\n",
    "tag_a"
   ],
   "metadata": {
    "colab": {
     "base_uri": "https://localhost:8080/"
    },
    "id": "V-Fggokvb7CO",
    "executionInfo": {
     "status": "ok",
     "timestamp": 1680506415874,
     "user_tz": -120,
     "elapsed": 205,
     "user": {
      "displayName": "Ludovic Danlos",
      "userId": "07066482761641334028"
     }
    },
    "outputId": "243d5b89-549a-40b1-d584-b4e16daf26e8"
   }
  },
  {
   "cell_type": "code",
   "source": [
    "for i in range(len(tag_a) - 2):\n",
    "  print(tag_a[i].contents)\n",
    "# On retire 2 car on ne veut pas récupérer les 2 dernières lignes qui ne \n",
    "# contiennent pas de phrases à caractère financier"
   ],
   "metadata": {
    "colab": {
     "base_uri": "https://localhost:8080/"
    },
    "id": "arSEmsToi7iV",
    "executionInfo": {
     "status": "ok",
     "timestamp": 1680506421956,
     "user_tz": -120,
     "elapsed": 198,
     "user": {
      "displayName": "Ludovic Danlos",
      "userId": "07066482761641334028"
     }
    },
    "outputId": "1b4d4b3a-1f15-4071-9e57-9f6574fe7100"
   },
   "execution_count": 5,
   "outputs": [
    {
     "name": "stdout",
     "output_type": "stream",
     "text": [
      "['FirstFT: Options trading surges as turmoil looms']\n",
      "['Global economy fends off geopolitical and banking threats']\n",
      "['Milestones and meetings']\n",
      "['If tech is driving the ‘productivity bandwagon’, it’s time to hit the brakes']\n",
      "['Ambition is needed to rebuild trust in multilateralism']\n",
      "['Will US inflation continue to slow?']\n",
      "['US data raises hopes Fed’s efforts to curb inflation are working']\n",
      "['US jobs growth slowed in March as Fed put brakes on economy']\n",
      "['Russia’s foreign minister threatens to scrap Ukraine grain deal']\n",
      "['FirstFT: US jobs market shows signs of cooling']\n",
      "['The battle for UK businesses to hold down customer price rises']\n",
      "['South Korean biotech companies seek to diversify from China as US tensions rise']\n",
      "['Germany seeks to limit Brussels’ scope on national debt reduction plans']\n",
      "['Global economy set for years of weak growth, IMF chief Georgieva warns']\n",
      "['FirstFT: Hedge funds cash in on banking chaos ']\n",
      "['When do banking failures matter for the economy?']\n",
      "['India’s central bank holds interest rates amid global banking turbulence']\n",
      "['Why defrosting the EU-China investment deal will be difficult']\n",
      "['What I learnt from three banking crises']\n",
      "['FT High-Growth Companies Asia-Pacific']\n",
      "['India aims to capitalise on China-west tensions']\n",
      "['Logistics turns to tech to meet new demand']\n",
      "['UK government publishes plans for post-Brexit border checks  ']\n",
      "['Geopolitical tensions threaten outlook for global economy']\n",
      "['‘Friendshoring’ is a risk to growth and financial stability, warns IMF ']\n"
     ]
    }
   ]
  },
  {
   "cell_type": "code",
   "execution_count": 6,
   "outputs": [
    {
     "name": "stdout",
     "output_type": "stream",
     "text": [
      "ok\n"
     ]
    }
   ],
   "source": [
    "phrases_web = [['Phrases']]\n",
    "for j in range(len(tag_a) - 2):\n",
    "  phrases_web.append(tag_a[j].contents)\n",
    "print(\"ok\")\n",
    "# Ici on rassemble les phrases qu'on vient d'identifier dans un tableau"
   ],
   "metadata": {
    "colab": {
     "base_uri": "https://localhost:8080/"
    },
    "id": "OnDg55ym_G_0",
    "executionInfo": {
     "status": "ok",
     "timestamp": 1680506428576,
     "user_tz": -120,
     "elapsed": 187,
     "user": {
      "displayName": "Ludovic Danlos",
      "userId": "07066482761641334028"
     }
    },
    "outputId": "e258702f-74c9-402f-bec5-38b81528dfce"
   }
  },
  {
   "cell_type": "code",
   "execution_count": 7,
   "outputs": [
    {
     "name": "stdout",
     "output_type": "stream",
     "text": [
      "['Phrases']\n",
      "['FirstFT: Options trading surges as turmoil looms']\n",
      "['Global economy fends off geopolitical and banking threats']\n",
      "['Milestones and meetings']\n",
      "['If tech is driving the ‘productivity bandwagon’, it’s time to hit the brakes']\n",
      "['Ambition is needed to rebuild trust in multilateralism']\n",
      "['Will US inflation continue to slow?']\n",
      "['US data raises hopes Fed’s efforts to curb inflation are working']\n",
      "['US jobs growth slowed in March as Fed put brakes on economy']\n",
      "['Russia’s foreign minister threatens to scrap Ukraine grain deal']\n",
      "['FirstFT: US jobs market shows signs of cooling']\n",
      "['The battle for UK businesses to hold down customer price rises']\n",
      "['South Korean biotech companies seek to diversify from China as US tensions rise']\n",
      "['Germany seeks to limit Brussels’ scope on national debt reduction plans']\n",
      "['Global economy set for years of weak growth, IMF chief Georgieva warns']\n",
      "['FirstFT: Hedge funds cash in on banking chaos ']\n",
      "['When do banking failures matter for the economy?']\n",
      "['India’s central bank holds interest rates amid global banking turbulence']\n",
      "['Why defrosting the EU-China investment deal will be difficult']\n",
      "['What I learnt from three banking crises']\n",
      "['FT High-Growth Companies Asia-Pacific']\n",
      "['India aims to capitalise on China-west tensions']\n",
      "['Logistics turns to tech to meet new demand']\n",
      "['UK government publishes plans for post-Brexit border checks  ']\n",
      "['Geopolitical tensions threaten outlook for global economy']\n",
      "['‘Friendshoring’ is a risk to growth and financial stability, warns IMF ']\n"
     ]
    }
   ],
   "source": [
    "for k in range(len(phrases_web)):\n",
    "  print(phrases_web[k])\n",
    "# On vérifie que nos phrases sont bien dans le tableau"
   ],
   "metadata": {
    "colab": {
     "base_uri": "https://localhost:8080/"
    },
    "id": "rvC_CIZz_G_1",
    "executionInfo": {
     "status": "ok",
     "timestamp": 1680506445334,
     "user_tz": -120,
     "elapsed": 189,
     "user": {
      "displayName": "Ludovic Danlos",
      "userId": "07066482761641334028"
     }
    },
    "outputId": "8014593b-2318-411b-a206-4e8051f15168"
   }
  },
  {
   "cell_type": "markdown",
   "source": [
    "### Ecriture des données dans un fichier csv"
   ],
   "metadata": {
    "collapsed": false,
    "id": "3olIoXjM_G_1"
   }
  },
  {
   "cell_type": "code",
   "execution_count": 8,
   "outputs": [
    {
     "data": {
      "text/plain": "str"
     },
     "execution_count": 8,
     "metadata": {},
     "output_type": "execute_result"
    }
   ],
   "source": [
    "type(phrases_web[0][0])\n",
    "# On vérifie le type de nos phrases"
   ],
   "metadata": {
    "colab": {
     "base_uri": "https://localhost:8080/"
    },
    "id": "UpYbGc0A_G_2",
    "executionInfo": {
     "status": "ok",
     "timestamp": 1680506462390,
     "user_tz": -120,
     "elapsed": 527,
     "user": {
      "displayName": "Ludovic Danlos",
      "userId": "07066482761641334028"
     }
    },
    "outputId": "f73e975c-e3cb-4361-c8d8-bf9dd187971a"
   }
  },
  {
   "cell_type": "code",
   "execution_count": 9,
   "outputs": [
    {
     "data": {
      "text/plain": "str"
     },
     "execution_count": 9,
     "metadata": {},
     "output_type": "execute_result"
    }
   ],
   "source": [
    "for l in range(len(phrases_web)):\n",
    "  phrases_web[l][0] = str(phrases_web[l][0])\n",
    "type(phrases_web[0][0])\n",
    "# Le type de nos phrases est un type propre à la librairie BeautifulSoup.\n",
    "# On convertit les phrases en objet de type string pour éviter d'éventuels problème lors de l'écriture en csv."
   ],
   "metadata": {
    "colab": {
     "base_uri": "https://localhost:8080/"
    },
    "id": "vzqdI9xX_G_2",
    "executionInfo": {
     "status": "ok",
     "timestamp": 1680506466775,
     "user_tz": -120,
     "elapsed": 845,
     "user": {
      "displayName": "Ludovic Danlos",
      "userId": "07066482761641334028"
     }
    },
    "outputId": "dc633b6f-360b-4ac4-bf01-f912b3603901"
   }
  },
  {
   "cell_type": "code",
   "execution_count": 10,
   "outputs": [
    {
     "name": "stdout",
     "output_type": "stream",
     "text": [
      "ok\n"
     ]
    }
   ],
   "source": [
    "with open(\"../data/web.csv\", \"w\", newline='', encoding='utf-8') as csvfile:\n",
    "  writer = csv.writer(csvfile, delimiter=',')\n",
    "  writer.writerows(phrases_web)\n",
    "  print(\"ok\")"
   ],
   "metadata": {
    "colab": {
     "base_uri": "https://localhost:8080/",
     "height": 218
    },
    "id": "yxRvHz66_G_2",
    "executionInfo": {
     "status": "error",
     "timestamp": 1680506473942,
     "user_tz": -120,
     "elapsed": 178,
     "user": {
      "displayName": "Ludovic Danlos",
      "userId": "07066482761641334028"
     }
    },
    "outputId": "1b411325-3bc3-4b26-80ee-7bf413686699"
   }
  },
  {
   "cell_type": "markdown",
   "source": [
    "### Récupération des données et du modèle"
   ],
   "metadata": {
    "id": "wkxSMCxDADIw"
   }
  },
  {
   "cell_type": "code",
   "execution_count": 11,
   "outputs": [],
   "source": [
    "import pandas as pan\n",
    "from joblib import load"
   ],
   "metadata": {
    "id": "2Is5fYKV_G_3"
   }
  },
  {
   "cell_type": "code",
   "source": [
    "# Récupération des phrases scrapées\n",
    "dataframe_web = pan.read_csv(\"../data/web.csv\")\n",
    "dataframe_web"
   ],
   "metadata": {
    "id": "wGodh7EuDwbo"
   },
   "execution_count": 12,
   "outputs": [
    {
     "data": {
      "text/plain": "                                              Phrases\n0    FirstFT: Options trading surges as turmoil looms\n1   Global economy fends off geopolitical and bank...\n2                             Milestones and meetings\n3   If tech is driving the ‘productivity bandwagon...\n4   Ambition is needed to rebuild trust in multila...\n5                 Will US inflation continue to slow?\n6   US data raises hopes Fed’s efforts to curb inf...\n7   US jobs growth slowed in March as Fed put brak...\n8   Russia’s foreign minister threatens to scrap U...\n9      FirstFT: US jobs market shows signs of cooling\n10  The battle for UK businesses to hold down cust...\n11  South Korean biotech companies seek to diversi...\n12  Germany seeks to limit Brussels’ scope on nati...\n13  Global economy set for years of weak growth, I...\n14     FirstFT: Hedge funds cash in on banking chaos \n15   When do banking failures matter for the economy?\n16  India’s central bank holds interest rates amid...\n17  Why defrosting the EU-China investment deal wi...\n18            What I learnt from three banking crises\n19              FT High-Growth Companies Asia-Pacific\n20    India aims to capitalise on China-west tensions\n21         Logistics turns to tech to meet new demand\n22  UK government publishes plans for post-Brexit ...\n23  Geopolitical tensions threaten outlook for glo...\n24  ‘Friendshoring’ is a risk to growth and financ...",
      "text/html": "<div>\n<style scoped>\n    .dataframe tbody tr th:only-of-type {\n        vertical-align: middle;\n    }\n\n    .dataframe tbody tr th {\n        vertical-align: top;\n    }\n\n    .dataframe thead th {\n        text-align: right;\n    }\n</style>\n<table border=\"1\" class=\"dataframe\">\n  <thead>\n    <tr style=\"text-align: right;\">\n      <th></th>\n      <th>Phrases</th>\n    </tr>\n  </thead>\n  <tbody>\n    <tr>\n      <th>0</th>\n      <td>FirstFT: Options trading surges as turmoil looms</td>\n    </tr>\n    <tr>\n      <th>1</th>\n      <td>Global economy fends off geopolitical and bank...</td>\n    </tr>\n    <tr>\n      <th>2</th>\n      <td>Milestones and meetings</td>\n    </tr>\n    <tr>\n      <th>3</th>\n      <td>If tech is driving the ‘productivity bandwagon...</td>\n    </tr>\n    <tr>\n      <th>4</th>\n      <td>Ambition is needed to rebuild trust in multila...</td>\n    </tr>\n    <tr>\n      <th>5</th>\n      <td>Will US inflation continue to slow?</td>\n    </tr>\n    <tr>\n      <th>6</th>\n      <td>US data raises hopes Fed’s efforts to curb inf...</td>\n    </tr>\n    <tr>\n      <th>7</th>\n      <td>US jobs growth slowed in March as Fed put brak...</td>\n    </tr>\n    <tr>\n      <th>8</th>\n      <td>Russia’s foreign minister threatens to scrap U...</td>\n    </tr>\n    <tr>\n      <th>9</th>\n      <td>FirstFT: US jobs market shows signs of cooling</td>\n    </tr>\n    <tr>\n      <th>10</th>\n      <td>The battle for UK businesses to hold down cust...</td>\n    </tr>\n    <tr>\n      <th>11</th>\n      <td>South Korean biotech companies seek to diversi...</td>\n    </tr>\n    <tr>\n      <th>12</th>\n      <td>Germany seeks to limit Brussels’ scope on nati...</td>\n    </tr>\n    <tr>\n      <th>13</th>\n      <td>Global economy set for years of weak growth, I...</td>\n    </tr>\n    <tr>\n      <th>14</th>\n      <td>FirstFT: Hedge funds cash in on banking chaos</td>\n    </tr>\n    <tr>\n      <th>15</th>\n      <td>When do banking failures matter for the economy?</td>\n    </tr>\n    <tr>\n      <th>16</th>\n      <td>India’s central bank holds interest rates amid...</td>\n    </tr>\n    <tr>\n      <th>17</th>\n      <td>Why defrosting the EU-China investment deal wi...</td>\n    </tr>\n    <tr>\n      <th>18</th>\n      <td>What I learnt from three banking crises</td>\n    </tr>\n    <tr>\n      <th>19</th>\n      <td>FT High-Growth Companies Asia-Pacific</td>\n    </tr>\n    <tr>\n      <th>20</th>\n      <td>India aims to capitalise on China-west tensions</td>\n    </tr>\n    <tr>\n      <th>21</th>\n      <td>Logistics turns to tech to meet new demand</td>\n    </tr>\n    <tr>\n      <th>22</th>\n      <td>UK government publishes plans for post-Brexit ...</td>\n    </tr>\n    <tr>\n      <th>23</th>\n      <td>Geopolitical tensions threaten outlook for glo...</td>\n    </tr>\n    <tr>\n      <th>24</th>\n      <td>‘Friendshoring’ is a risk to growth and financ...</td>\n    </tr>\n  </tbody>\n</table>\n</div>"
     },
     "execution_count": 12,
     "metadata": {},
     "output_type": "execute_result"
    }
   ]
  },
  {
   "cell_type": "code",
   "source": [
    "# Récupération du modèle de la Partie 1\n",
    "model = load(\"model.logiR\")"
   ],
   "metadata": {
    "id": "X-4G8FfqEHil"
   },
   "execution_count": 13,
   "outputs": []
  },
  {
   "cell_type": "markdown",
   "source": [
    "### Prédictions sur les données récupérées sur le web"
   ],
   "metadata": {
    "collapsed": false
   }
  },
  {
   "cell_type": "code",
   "execution_count": 14,
   "outputs": [
    {
     "data": {
      "text/plain": "Pipeline(steps=[('tfidf', TfidfVectorizer()),\n                ('LogisticRegression', LogisticRegression())])",
      "text/html": "<style>#sk-container-id-1 {color: black;background-color: white;}#sk-container-id-1 pre{padding: 0;}#sk-container-id-1 div.sk-toggleable {background-color: white;}#sk-container-id-1 label.sk-toggleable__label {cursor: pointer;display: block;width: 100%;margin-bottom: 0;padding: 0.3em;box-sizing: border-box;text-align: center;}#sk-container-id-1 label.sk-toggleable__label-arrow:before {content: \"▸\";float: left;margin-right: 0.25em;color: #696969;}#sk-container-id-1 label.sk-toggleable__label-arrow:hover:before {color: black;}#sk-container-id-1 div.sk-estimator:hover label.sk-toggleable__label-arrow:before {color: black;}#sk-container-id-1 div.sk-toggleable__content {max-height: 0;max-width: 0;overflow: hidden;text-align: left;background-color: #f0f8ff;}#sk-container-id-1 div.sk-toggleable__content pre {margin: 0.2em;color: black;border-radius: 0.25em;background-color: #f0f8ff;}#sk-container-id-1 input.sk-toggleable__control:checked~div.sk-toggleable__content {max-height: 200px;max-width: 100%;overflow: auto;}#sk-container-id-1 input.sk-toggleable__control:checked~label.sk-toggleable__label-arrow:before {content: \"▾\";}#sk-container-id-1 div.sk-estimator input.sk-toggleable__control:checked~label.sk-toggleable__label {background-color: #d4ebff;}#sk-container-id-1 div.sk-label input.sk-toggleable__control:checked~label.sk-toggleable__label {background-color: #d4ebff;}#sk-container-id-1 input.sk-hidden--visually {border: 0;clip: rect(1px 1px 1px 1px);clip: rect(1px, 1px, 1px, 1px);height: 1px;margin: -1px;overflow: hidden;padding: 0;position: absolute;width: 1px;}#sk-container-id-1 div.sk-estimator {font-family: monospace;background-color: #f0f8ff;border: 1px dotted black;border-radius: 0.25em;box-sizing: border-box;margin-bottom: 0.5em;}#sk-container-id-1 div.sk-estimator:hover {background-color: #d4ebff;}#sk-container-id-1 div.sk-parallel-item::after {content: \"\";width: 100%;border-bottom: 1px solid gray;flex-grow: 1;}#sk-container-id-1 div.sk-label:hover label.sk-toggleable__label {background-color: #d4ebff;}#sk-container-id-1 div.sk-serial::before {content: \"\";position: absolute;border-left: 1px solid gray;box-sizing: border-box;top: 0;bottom: 0;left: 50%;z-index: 0;}#sk-container-id-1 div.sk-serial {display: flex;flex-direction: column;align-items: center;background-color: white;padding-right: 0.2em;padding-left: 0.2em;position: relative;}#sk-container-id-1 div.sk-item {position: relative;z-index: 1;}#sk-container-id-1 div.sk-parallel {display: flex;align-items: stretch;justify-content: center;background-color: white;position: relative;}#sk-container-id-1 div.sk-item::before, #sk-container-id-1 div.sk-parallel-item::before {content: \"\";position: absolute;border-left: 1px solid gray;box-sizing: border-box;top: 0;bottom: 0;left: 50%;z-index: -1;}#sk-container-id-1 div.sk-parallel-item {display: flex;flex-direction: column;z-index: 1;position: relative;background-color: white;}#sk-container-id-1 div.sk-parallel-item:first-child::after {align-self: flex-end;width: 50%;}#sk-container-id-1 div.sk-parallel-item:last-child::after {align-self: flex-start;width: 50%;}#sk-container-id-1 div.sk-parallel-item:only-child::after {width: 0;}#sk-container-id-1 div.sk-dashed-wrapped {border: 1px dashed gray;margin: 0 0.4em 0.5em 0.4em;box-sizing: border-box;padding-bottom: 0.4em;background-color: white;}#sk-container-id-1 div.sk-label label {font-family: monospace;font-weight: bold;display: inline-block;line-height: 1.2em;}#sk-container-id-1 div.sk-label-container {text-align: center;}#sk-container-id-1 div.sk-container {/* jupyter's `normalize.less` sets `[hidden] { display: none; }` but bootstrap.min.css set `[hidden] { display: none !important; }` so we also need the `!important` here to be able to override the default hidden behavior on the sphinx rendered scikit-learn.org. See: https://github.com/scikit-learn/scikit-learn/issues/21755 */display: inline-block !important;position: relative;}#sk-container-id-1 div.sk-text-repr-fallback {display: none;}</style><div id=\"sk-container-id-1\" class=\"sk-top-container\"><div class=\"sk-text-repr-fallback\"><pre>Pipeline(steps=[(&#x27;tfidf&#x27;, TfidfVectorizer()),\n                (&#x27;LogisticRegression&#x27;, LogisticRegression())])</pre><b>In a Jupyter environment, please rerun this cell to show the HTML representation or trust the notebook. <br />On GitHub, the HTML representation is unable to render, please try loading this page with nbviewer.org.</b></div><div class=\"sk-container\" hidden><div class=\"sk-item sk-dashed-wrapped\"><div class=\"sk-label-container\"><div class=\"sk-label sk-toggleable\"><input class=\"sk-toggleable__control sk-hidden--visually\" id=\"sk-estimator-id-1\" type=\"checkbox\" ><label for=\"sk-estimator-id-1\" class=\"sk-toggleable__label sk-toggleable__label-arrow\">Pipeline</label><div class=\"sk-toggleable__content\"><pre>Pipeline(steps=[(&#x27;tfidf&#x27;, TfidfVectorizer()),\n                (&#x27;LogisticRegression&#x27;, LogisticRegression())])</pre></div></div></div><div class=\"sk-serial\"><div class=\"sk-item\"><div class=\"sk-estimator sk-toggleable\"><input class=\"sk-toggleable__control sk-hidden--visually\" id=\"sk-estimator-id-2\" type=\"checkbox\" ><label for=\"sk-estimator-id-2\" class=\"sk-toggleable__label sk-toggleable__label-arrow\">TfidfVectorizer</label><div class=\"sk-toggleable__content\"><pre>TfidfVectorizer()</pre></div></div></div><div class=\"sk-item\"><div class=\"sk-estimator sk-toggleable\"><input class=\"sk-toggleable__control sk-hidden--visually\" id=\"sk-estimator-id-3\" type=\"checkbox\" ><label for=\"sk-estimator-id-3\" class=\"sk-toggleable__label sk-toggleable__label-arrow\">LogisticRegression</label><div class=\"sk-toggleable__content\"><pre>LogisticRegression()</pre></div></div></div></div></div></div></div>"
     },
     "execution_count": 14,
     "metadata": {},
     "output_type": "execute_result"
    }
   ],
   "source": [
    "model"
   ],
   "metadata": {
    "collapsed": false
   }
  },
  {
   "cell_type": "code",
   "execution_count": 15,
   "outputs": [
    {
     "data": {
      "text/plain": "array(['neutral', 'neutral', 'neutral', 'neutral', 'neutral', 'neutral',\n       'positive', 'negative', 'positive', 'negative', 'neutral',\n       'positive', 'neutral', 'positive', 'neutral', 'neutral', 'neutral',\n       'neutral', 'neutral', 'positive', 'positive', 'positive',\n       'positive', 'neutral', 'neutral'], dtype=object)"
     },
     "execution_count": 15,
     "metadata": {},
     "output_type": "execute_result"
    }
   ],
   "source": [
    "predictions = model.predict(dataframe_web.Phrases)\n",
    "predictions"
   ],
   "metadata": {
    "collapsed": false
   }
  },
  {
   "cell_type": "code",
   "execution_count": 19,
   "outputs": [
    {
     "data": {
      "text/plain": "pandas.core.series.Series"
     },
     "execution_count": 19,
     "metadata": {},
     "output_type": "execute_result"
    }
   ],
   "source": [],
   "metadata": {
    "collapsed": false
   }
  }
 ],
 "metadata": {
  "kernelspec": {
   "display_name": "Python 3",
   "language": "python",
   "name": "python3"
  },
  "language_info": {
   "codemirror_mode": {
    "name": "ipython",
    "version": 2
   },
   "file_extension": ".py",
   "mimetype": "text/x-python",
   "name": "python",
   "nbconvert_exporter": "python",
   "pygments_lexer": "ipython2",
   "version": "2.7.6"
  },
  "colab": {
   "provenance": []
  }
 },
 "nbformat": 4,
 "nbformat_minor": 0
}
